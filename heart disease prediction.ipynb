{
 "cells": [
  {
   "cell_type": "code",
   "execution_count": 1,
   "id": "d3eef63d",
   "metadata": {
    "ExecuteTime": {
     "end_time": "2022-01-03T10:24:25.886245Z",
     "start_time": "2022-01-03T10:24:15.844670Z"
    }
   },
   "outputs": [],
   "source": [
    "import pandas as pd \n",
    "import numpy as np \n",
    "import matplotlib.pyplot as plt\n",
    "from sklearn import preprocessing\n",
    "from sklearn.model_selection import train_test_split"
   ]
  },
  {
   "cell_type": "code",
   "execution_count": 3,
   "id": "e68ba00e",
   "metadata": {
    "ExecuteTime": {
     "end_time": "2022-01-03T10:24:50.022625Z",
     "start_time": "2022-01-03T10:24:49.914619Z"
    }
   },
   "outputs": [
    {
     "data": {
      "text/html": [
       "<div>\n",
       "<style scoped>\n",
       "    .dataframe tbody tr th:only-of-type {\n",
       "        vertical-align: middle;\n",
       "    }\n",
       "\n",
       "    .dataframe tbody tr th {\n",
       "        vertical-align: top;\n",
       "    }\n",
       "\n",
       "    .dataframe thead th {\n",
       "        text-align: right;\n",
       "    }\n",
       "</style>\n",
       "<table border=\"1\" class=\"dataframe\">\n",
       "  <thead>\n",
       "    <tr style=\"text-align: right;\">\n",
       "      <th></th>\n",
       "      <th>Age</th>\n",
       "      <th>Sex</th>\n",
       "      <th>ChestPainType</th>\n",
       "      <th>RestingBP</th>\n",
       "      <th>Cholesterol</th>\n",
       "      <th>FastingBS</th>\n",
       "      <th>RestingECG</th>\n",
       "      <th>MaxHR</th>\n",
       "      <th>ExerciseAngina</th>\n",
       "      <th>Oldpeak</th>\n",
       "      <th>ST_Slope</th>\n",
       "      <th>HeartDisease</th>\n",
       "    </tr>\n",
       "  </thead>\n",
       "  <tbody>\n",
       "    <tr>\n",
       "      <th>0</th>\n",
       "      <td>40</td>\n",
       "      <td>M</td>\n",
       "      <td>ATA</td>\n",
       "      <td>140</td>\n",
       "      <td>289</td>\n",
       "      <td>0</td>\n",
       "      <td>Normal</td>\n",
       "      <td>172</td>\n",
       "      <td>N</td>\n",
       "      <td>0.0</td>\n",
       "      <td>Up</td>\n",
       "      <td>0</td>\n",
       "    </tr>\n",
       "    <tr>\n",
       "      <th>1</th>\n",
       "      <td>49</td>\n",
       "      <td>F</td>\n",
       "      <td>NAP</td>\n",
       "      <td>160</td>\n",
       "      <td>180</td>\n",
       "      <td>0</td>\n",
       "      <td>Normal</td>\n",
       "      <td>156</td>\n",
       "      <td>N</td>\n",
       "      <td>1.0</td>\n",
       "      <td>Flat</td>\n",
       "      <td>1</td>\n",
       "    </tr>\n",
       "    <tr>\n",
       "      <th>2</th>\n",
       "      <td>37</td>\n",
       "      <td>M</td>\n",
       "      <td>ATA</td>\n",
       "      <td>130</td>\n",
       "      <td>283</td>\n",
       "      <td>0</td>\n",
       "      <td>ST</td>\n",
       "      <td>98</td>\n",
       "      <td>N</td>\n",
       "      <td>0.0</td>\n",
       "      <td>Up</td>\n",
       "      <td>0</td>\n",
       "    </tr>\n",
       "    <tr>\n",
       "      <th>3</th>\n",
       "      <td>48</td>\n",
       "      <td>F</td>\n",
       "      <td>ASY</td>\n",
       "      <td>138</td>\n",
       "      <td>214</td>\n",
       "      <td>0</td>\n",
       "      <td>Normal</td>\n",
       "      <td>108</td>\n",
       "      <td>Y</td>\n",
       "      <td>1.5</td>\n",
       "      <td>Flat</td>\n",
       "      <td>1</td>\n",
       "    </tr>\n",
       "    <tr>\n",
       "      <th>4</th>\n",
       "      <td>54</td>\n",
       "      <td>M</td>\n",
       "      <td>NAP</td>\n",
       "      <td>150</td>\n",
       "      <td>195</td>\n",
       "      <td>0</td>\n",
       "      <td>Normal</td>\n",
       "      <td>122</td>\n",
       "      <td>N</td>\n",
       "      <td>0.0</td>\n",
       "      <td>Up</td>\n",
       "      <td>0</td>\n",
       "    </tr>\n",
       "    <tr>\n",
       "      <th>...</th>\n",
       "      <td>...</td>\n",
       "      <td>...</td>\n",
       "      <td>...</td>\n",
       "      <td>...</td>\n",
       "      <td>...</td>\n",
       "      <td>...</td>\n",
       "      <td>...</td>\n",
       "      <td>...</td>\n",
       "      <td>...</td>\n",
       "      <td>...</td>\n",
       "      <td>...</td>\n",
       "      <td>...</td>\n",
       "    </tr>\n",
       "    <tr>\n",
       "      <th>913</th>\n",
       "      <td>45</td>\n",
       "      <td>M</td>\n",
       "      <td>TA</td>\n",
       "      <td>110</td>\n",
       "      <td>264</td>\n",
       "      <td>0</td>\n",
       "      <td>Normal</td>\n",
       "      <td>132</td>\n",
       "      <td>N</td>\n",
       "      <td>1.2</td>\n",
       "      <td>Flat</td>\n",
       "      <td>1</td>\n",
       "    </tr>\n",
       "    <tr>\n",
       "      <th>914</th>\n",
       "      <td>68</td>\n",
       "      <td>M</td>\n",
       "      <td>ASY</td>\n",
       "      <td>144</td>\n",
       "      <td>193</td>\n",
       "      <td>1</td>\n",
       "      <td>Normal</td>\n",
       "      <td>141</td>\n",
       "      <td>N</td>\n",
       "      <td>3.4</td>\n",
       "      <td>Flat</td>\n",
       "      <td>1</td>\n",
       "    </tr>\n",
       "    <tr>\n",
       "      <th>915</th>\n",
       "      <td>57</td>\n",
       "      <td>M</td>\n",
       "      <td>ASY</td>\n",
       "      <td>130</td>\n",
       "      <td>131</td>\n",
       "      <td>0</td>\n",
       "      <td>Normal</td>\n",
       "      <td>115</td>\n",
       "      <td>Y</td>\n",
       "      <td>1.2</td>\n",
       "      <td>Flat</td>\n",
       "      <td>1</td>\n",
       "    </tr>\n",
       "    <tr>\n",
       "      <th>916</th>\n",
       "      <td>57</td>\n",
       "      <td>F</td>\n",
       "      <td>ATA</td>\n",
       "      <td>130</td>\n",
       "      <td>236</td>\n",
       "      <td>0</td>\n",
       "      <td>LVH</td>\n",
       "      <td>174</td>\n",
       "      <td>N</td>\n",
       "      <td>0.0</td>\n",
       "      <td>Flat</td>\n",
       "      <td>1</td>\n",
       "    </tr>\n",
       "    <tr>\n",
       "      <th>917</th>\n",
       "      <td>38</td>\n",
       "      <td>M</td>\n",
       "      <td>NAP</td>\n",
       "      <td>138</td>\n",
       "      <td>175</td>\n",
       "      <td>0</td>\n",
       "      <td>Normal</td>\n",
       "      <td>173</td>\n",
       "      <td>N</td>\n",
       "      <td>0.0</td>\n",
       "      <td>Up</td>\n",
       "      <td>0</td>\n",
       "    </tr>\n",
       "  </tbody>\n",
       "</table>\n",
       "<p>918 rows × 12 columns</p>\n",
       "</div>"
      ],
      "text/plain": [
       "     Age Sex ChestPainType  RestingBP  Cholesterol  FastingBS RestingECG  \\\n",
       "0     40   M           ATA        140          289          0     Normal   \n",
       "1     49   F           NAP        160          180          0     Normal   \n",
       "2     37   M           ATA        130          283          0         ST   \n",
       "3     48   F           ASY        138          214          0     Normal   \n",
       "4     54   M           NAP        150          195          0     Normal   \n",
       "..   ...  ..           ...        ...          ...        ...        ...   \n",
       "913   45   M            TA        110          264          0     Normal   \n",
       "914   68   M           ASY        144          193          1     Normal   \n",
       "915   57   M           ASY        130          131          0     Normal   \n",
       "916   57   F           ATA        130          236          0        LVH   \n",
       "917   38   M           NAP        138          175          0     Normal   \n",
       "\n",
       "     MaxHR ExerciseAngina  Oldpeak ST_Slope  HeartDisease  \n",
       "0      172              N      0.0       Up             0  \n",
       "1      156              N      1.0     Flat             1  \n",
       "2       98              N      0.0       Up             0  \n",
       "3      108              Y      1.5     Flat             1  \n",
       "4      122              N      0.0       Up             0  \n",
       "..     ...            ...      ...      ...           ...  \n",
       "913    132              N      1.2     Flat             1  \n",
       "914    141              N      3.4     Flat             1  \n",
       "915    115              Y      1.2     Flat             1  \n",
       "916    174              N      0.0     Flat             1  \n",
       "917    173              N      0.0       Up             0  \n",
       "\n",
       "[918 rows x 12 columns]"
      ]
     },
     "execution_count": 3,
     "metadata": {},
     "output_type": "execute_result"
    }
   ],
   "source": [
    "heart=pd.read_csv(\"heart.csv\")\n",
    "heart"
   ]
  },
  {
   "cell_type": "code",
   "execution_count": 4,
   "id": "ced1211b",
   "metadata": {
    "ExecuteTime": {
     "end_time": "2022-01-03T10:25:05.436507Z",
     "start_time": "2022-01-03T10:25:05.077486Z"
    }
   },
   "outputs": [
    {
     "name": "stdout",
     "output_type": "stream",
     "text": [
      "<class 'pandas.core.frame.DataFrame'>\n",
      "RangeIndex: 918 entries, 0 to 917\n",
      "Data columns (total 12 columns):\n",
      " #   Column          Non-Null Count  Dtype  \n",
      "---  ------          --------------  -----  \n",
      " 0   Age             918 non-null    int64  \n",
      " 1   Sex             918 non-null    object \n",
      " 2   ChestPainType   918 non-null    object \n",
      " 3   RestingBP       918 non-null    int64  \n",
      " 4   Cholesterol     918 non-null    int64  \n",
      " 5   FastingBS       918 non-null    int64  \n",
      " 6   RestingECG      918 non-null    object \n",
      " 7   MaxHR           918 non-null    int64  \n",
      " 8   ExerciseAngina  918 non-null    object \n",
      " 9   Oldpeak         918 non-null    float64\n",
      " 10  ST_Slope        918 non-null    object \n",
      " 11  HeartDisease    918 non-null    int64  \n",
      "dtypes: float64(1), int64(6), object(5)\n",
      "memory usage: 86.2+ KB\n"
     ]
    }
   ],
   "source": [
    "heart.info()"
   ]
  },
  {
   "cell_type": "code",
   "execution_count": 5,
   "id": "282bd410",
   "metadata": {
    "ExecuteTime": {
     "end_time": "2022-01-03T10:25:23.925564Z",
     "start_time": "2022-01-03T10:25:23.910564Z"
    }
   },
   "outputs": [
    {
     "data": {
      "text/plain": [
       "Index(['Age', 'Sex', 'ChestPainType', 'RestingBP', 'Cholesterol', 'FastingBS',\n",
       "       'RestingECG', 'MaxHR', 'ExerciseAngina', 'Oldpeak', 'ST_Slope',\n",
       "       'HeartDisease'],\n",
       "      dtype='object')"
      ]
     },
     "execution_count": 5,
     "metadata": {},
     "output_type": "execute_result"
    }
   ],
   "source": [
    "heart.columns\n"
   ]
  },
  {
   "cell_type": "code",
   "execution_count": 7,
   "id": "f0827786",
   "metadata": {
    "ExecuteTime": {
     "end_time": "2022-01-03T10:29:49.166554Z",
     "start_time": "2022-01-03T10:29:49.035546Z"
    }
   },
   "outputs": [
    {
     "data": {
      "text/html": [
       "<div>\n",
       "<style scoped>\n",
       "    .dataframe tbody tr th:only-of-type {\n",
       "        vertical-align: middle;\n",
       "    }\n",
       "\n",
       "    .dataframe tbody tr th {\n",
       "        vertical-align: top;\n",
       "    }\n",
       "\n",
       "    .dataframe thead th {\n",
       "        text-align: right;\n",
       "    }\n",
       "</style>\n",
       "<table border=\"1\" class=\"dataframe\">\n",
       "  <thead>\n",
       "    <tr style=\"text-align: right;\">\n",
       "      <th></th>\n",
       "      <th>Age</th>\n",
       "      <th>Sex</th>\n",
       "      <th>ChestPainType</th>\n",
       "      <th>RestingBP</th>\n",
       "      <th>Cholesterol</th>\n",
       "      <th>FastingBS</th>\n",
       "      <th>RestingECG</th>\n",
       "      <th>MaxHR</th>\n",
       "      <th>ExerciseAngina</th>\n",
       "      <th>Oldpeak</th>\n",
       "      <th>ST_Slope</th>\n",
       "      <th>HeartDisease</th>\n",
       "    </tr>\n",
       "  </thead>\n",
       "  <tbody>\n",
       "    <tr>\n",
       "      <th>0</th>\n",
       "      <td>40</td>\n",
       "      <td>1</td>\n",
       "      <td>1</td>\n",
       "      <td>140</td>\n",
       "      <td>289</td>\n",
       "      <td>0</td>\n",
       "      <td>1</td>\n",
       "      <td>172</td>\n",
       "      <td>0</td>\n",
       "      <td>0.0</td>\n",
       "      <td>2</td>\n",
       "      <td>0</td>\n",
       "    </tr>\n",
       "    <tr>\n",
       "      <th>1</th>\n",
       "      <td>49</td>\n",
       "      <td>0</td>\n",
       "      <td>2</td>\n",
       "      <td>160</td>\n",
       "      <td>180</td>\n",
       "      <td>0</td>\n",
       "      <td>1</td>\n",
       "      <td>156</td>\n",
       "      <td>0</td>\n",
       "      <td>1.0</td>\n",
       "      <td>1</td>\n",
       "      <td>1</td>\n",
       "    </tr>\n",
       "    <tr>\n",
       "      <th>2</th>\n",
       "      <td>37</td>\n",
       "      <td>1</td>\n",
       "      <td>1</td>\n",
       "      <td>130</td>\n",
       "      <td>283</td>\n",
       "      <td>0</td>\n",
       "      <td>2</td>\n",
       "      <td>98</td>\n",
       "      <td>0</td>\n",
       "      <td>0.0</td>\n",
       "      <td>2</td>\n",
       "      <td>0</td>\n",
       "    </tr>\n",
       "    <tr>\n",
       "      <th>3</th>\n",
       "      <td>48</td>\n",
       "      <td>0</td>\n",
       "      <td>0</td>\n",
       "      <td>138</td>\n",
       "      <td>214</td>\n",
       "      <td>0</td>\n",
       "      <td>1</td>\n",
       "      <td>108</td>\n",
       "      <td>1</td>\n",
       "      <td>1.5</td>\n",
       "      <td>1</td>\n",
       "      <td>1</td>\n",
       "    </tr>\n",
       "    <tr>\n",
       "      <th>4</th>\n",
       "      <td>54</td>\n",
       "      <td>1</td>\n",
       "      <td>2</td>\n",
       "      <td>150</td>\n",
       "      <td>195</td>\n",
       "      <td>0</td>\n",
       "      <td>1</td>\n",
       "      <td>122</td>\n",
       "      <td>0</td>\n",
       "      <td>0.0</td>\n",
       "      <td>2</td>\n",
       "      <td>0</td>\n",
       "    </tr>\n",
       "    <tr>\n",
       "      <th>...</th>\n",
       "      <td>...</td>\n",
       "      <td>...</td>\n",
       "      <td>...</td>\n",
       "      <td>...</td>\n",
       "      <td>...</td>\n",
       "      <td>...</td>\n",
       "      <td>...</td>\n",
       "      <td>...</td>\n",
       "      <td>...</td>\n",
       "      <td>...</td>\n",
       "      <td>...</td>\n",
       "      <td>...</td>\n",
       "    </tr>\n",
       "    <tr>\n",
       "      <th>913</th>\n",
       "      <td>45</td>\n",
       "      <td>1</td>\n",
       "      <td>3</td>\n",
       "      <td>110</td>\n",
       "      <td>264</td>\n",
       "      <td>0</td>\n",
       "      <td>1</td>\n",
       "      <td>132</td>\n",
       "      <td>0</td>\n",
       "      <td>1.2</td>\n",
       "      <td>1</td>\n",
       "      <td>1</td>\n",
       "    </tr>\n",
       "    <tr>\n",
       "      <th>914</th>\n",
       "      <td>68</td>\n",
       "      <td>1</td>\n",
       "      <td>0</td>\n",
       "      <td>144</td>\n",
       "      <td>193</td>\n",
       "      <td>1</td>\n",
       "      <td>1</td>\n",
       "      <td>141</td>\n",
       "      <td>0</td>\n",
       "      <td>3.4</td>\n",
       "      <td>1</td>\n",
       "      <td>1</td>\n",
       "    </tr>\n",
       "    <tr>\n",
       "      <th>915</th>\n",
       "      <td>57</td>\n",
       "      <td>1</td>\n",
       "      <td>0</td>\n",
       "      <td>130</td>\n",
       "      <td>131</td>\n",
       "      <td>0</td>\n",
       "      <td>1</td>\n",
       "      <td>115</td>\n",
       "      <td>1</td>\n",
       "      <td>1.2</td>\n",
       "      <td>1</td>\n",
       "      <td>1</td>\n",
       "    </tr>\n",
       "    <tr>\n",
       "      <th>916</th>\n",
       "      <td>57</td>\n",
       "      <td>0</td>\n",
       "      <td>1</td>\n",
       "      <td>130</td>\n",
       "      <td>236</td>\n",
       "      <td>0</td>\n",
       "      <td>0</td>\n",
       "      <td>174</td>\n",
       "      <td>0</td>\n",
       "      <td>0.0</td>\n",
       "      <td>1</td>\n",
       "      <td>1</td>\n",
       "    </tr>\n",
       "    <tr>\n",
       "      <th>917</th>\n",
       "      <td>38</td>\n",
       "      <td>1</td>\n",
       "      <td>2</td>\n",
       "      <td>138</td>\n",
       "      <td>175</td>\n",
       "      <td>0</td>\n",
       "      <td>1</td>\n",
       "      <td>173</td>\n",
       "      <td>0</td>\n",
       "      <td>0.0</td>\n",
       "      <td>2</td>\n",
       "      <td>0</td>\n",
       "    </tr>\n",
       "  </tbody>\n",
       "</table>\n",
       "<p>918 rows × 12 columns</p>\n",
       "</div>"
      ],
      "text/plain": [
       "     Age  Sex  ChestPainType  RestingBP  Cholesterol  FastingBS  RestingECG  \\\n",
       "0     40    1              1        140          289          0           1   \n",
       "1     49    0              2        160          180          0           1   \n",
       "2     37    1              1        130          283          0           2   \n",
       "3     48    0              0        138          214          0           1   \n",
       "4     54    1              2        150          195          0           1   \n",
       "..   ...  ...            ...        ...          ...        ...         ...   \n",
       "913   45    1              3        110          264          0           1   \n",
       "914   68    1              0        144          193          1           1   \n",
       "915   57    1              0        130          131          0           1   \n",
       "916   57    0              1        130          236          0           0   \n",
       "917   38    1              2        138          175          0           1   \n",
       "\n",
       "     MaxHR  ExerciseAngina  Oldpeak  ST_Slope  HeartDisease  \n",
       "0      172               0      0.0         2             0  \n",
       "1      156               0      1.0         1             1  \n",
       "2       98               0      0.0         2             0  \n",
       "3      108               1      1.5         1             1  \n",
       "4      122               0      0.0         2             0  \n",
       "..     ...             ...      ...       ...           ...  \n",
       "913    132               0      1.2         1             1  \n",
       "914    141               0      3.4         1             1  \n",
       "915    115               1      1.2         1             1  \n",
       "916    174               0      0.0         1             1  \n",
       "917    173               0      0.0         2             0  \n",
       "\n",
       "[918 rows x 12 columns]"
      ]
     },
     "execution_count": 7,
     "metadata": {},
     "output_type": "execute_result"
    }
   ],
   "source": [
    "labelencoder=preprocessing.LabelEncoder()\n",
    "heart[\"Sex\"]=labelencoder.fit_transform(heart[\"Sex\"]) \n",
    "heart[\"ChestPainType\"]=labelencoder.fit_transform(heart[\"ChestPainType\"])\n",
    "heart[\"RestingECG\"]=labelencoder.fit_transform(heart[\"RestingECG\"])\n",
    "heart[\"ExerciseAngina\"]=labelencoder.fit_transform(heart[\"ExerciseAngina\"])\n",
    "heart[\"ST_Slope\"]=labelencoder.fit_transform(heart[\"ST_Slope\"])\n",
    "heart"
   ]
  },
  {
   "cell_type": "code",
   "execution_count": 14,
   "id": "07d7d66a",
   "metadata": {
    "ExecuteTime": {
     "end_time": "2022-01-03T10:35:16.254305Z",
     "start_time": "2022-01-03T10:35:08.793878Z"
    }
   },
   "outputs": [],
   "source": [
    "import statsmodels.api as sm\n",
    "logit=sm.Logit(y,x)"
   ]
  },
  {
   "cell_type": "code",
   "execution_count": 15,
   "id": "48d4da27",
   "metadata": {
    "ExecuteTime": {
     "end_time": "2022-01-03T10:35:32.980261Z",
     "start_time": "2022-01-03T10:35:32.693245Z"
    }
   },
   "outputs": [
    {
     "name": "stdout",
     "output_type": "stream",
     "text": [
      "Optimization terminated successfully.\n",
      "         Current function value: 0.362984\n",
      "         Iterations 7\n"
     ]
    },
    {
     "data": {
      "text/html": [
       "<table class=\"simpletable\">\n",
       "<caption>Logit Regression Results</caption>\n",
       "<tr>\n",
       "  <th>Dep. Variable:</th>     <td>HeartDisease</td>   <th>  No. Observations:  </th>   <td>   918</td>  \n",
       "</tr>\n",
       "<tr>\n",
       "  <th>Model:</th>                 <td>Logit</td>      <th>  Df Residuals:      </th>   <td>   907</td>  \n",
       "</tr>\n",
       "<tr>\n",
       "  <th>Method:</th>                 <td>MLE</td>       <th>  Df Model:          </th>   <td>    10</td>  \n",
       "</tr>\n",
       "<tr>\n",
       "  <th>Date:</th>            <td>Mon, 03 Jan 2022</td> <th>  Pseudo R-squ.:     </th>   <td>0.4720</td>  \n",
       "</tr>\n",
       "<tr>\n",
       "  <th>Time:</th>                <td>16:05:32</td>     <th>  Log-Likelihood:    </th>  <td> -333.22</td> \n",
       "</tr>\n",
       "<tr>\n",
       "  <th>converged:</th>             <td>True</td>       <th>  LL-Null:           </th>  <td> -631.07</td> \n",
       "</tr>\n",
       "<tr>\n",
       "  <th>Covariance Type:</th>     <td>nonrobust</td>    <th>  LLR p-value:       </th> <td>1.470e-121</td>\n",
       "</tr>\n",
       "</table>\n",
       "<table class=\"simpletable\">\n",
       "<tr>\n",
       "         <td></td>           <th>coef</th>     <th>std err</th>      <th>z</th>      <th>P>|z|</th>  <th>[0.025</th>    <th>0.975]</th>  \n",
       "</tr>\n",
       "<tr>\n",
       "  <th>Age</th>            <td>    0.0273</td> <td>    0.010</td> <td>    2.753</td> <td> 0.006</td> <td>    0.008</td> <td>    0.047</td>\n",
       "</tr>\n",
       "<tr>\n",
       "  <th>Sex</th>            <td>    1.4336</td> <td>    0.253</td> <td>    5.673</td> <td> 0.000</td> <td>    0.938</td> <td>    1.929</td>\n",
       "</tr>\n",
       "<tr>\n",
       "  <th>ChestPainType</th>  <td>   -0.6925</td> <td>    0.106</td> <td>   -6.525</td> <td> 0.000</td> <td>   -0.901</td> <td>   -0.485</td>\n",
       "</tr>\n",
       "<tr>\n",
       "  <th>RestingBP</th>      <td>    0.0077</td> <td>    0.005</td> <td>    1.537</td> <td> 0.124</td> <td>   -0.002</td> <td>    0.018</td>\n",
       "</tr>\n",
       "<tr>\n",
       "  <th>Cholesterol</th>    <td>   -0.0036</td> <td>    0.001</td> <td>   -3.472</td> <td> 0.001</td> <td>   -0.006</td> <td>   -0.002</td>\n",
       "</tr>\n",
       "<tr>\n",
       "  <th>FastingBS</th>      <td>    1.0875</td> <td>    0.257</td> <td>    4.229</td> <td> 0.000</td> <td>    0.584</td> <td>    1.592</td>\n",
       "</tr>\n",
       "<tr>\n",
       "  <th>RestingECG</th>     <td>   -0.1288</td> <td>    0.161</td> <td>   -0.799</td> <td> 0.424</td> <td>   -0.445</td> <td>    0.187</td>\n",
       "</tr>\n",
       "<tr>\n",
       "  <th>MaxHR</th>          <td>   -0.0039</td> <td>    0.004</td> <td>   -1.086</td> <td> 0.278</td> <td>   -0.011</td> <td>    0.003</td>\n",
       "</tr>\n",
       "<tr>\n",
       "  <th>ExerciseAngina</th> <td>    1.1403</td> <td>    0.229</td> <td>    4.985</td> <td> 0.000</td> <td>    0.692</td> <td>    1.589</td>\n",
       "</tr>\n",
       "<tr>\n",
       "  <th>Oldpeak</th>        <td>    0.3684</td> <td>    0.115</td> <td>    3.209</td> <td> 0.001</td> <td>    0.143</td> <td>    0.594</td>\n",
       "</tr>\n",
       "<tr>\n",
       "  <th>ST_Slope</th>       <td>   -1.6891</td> <td>    0.206</td> <td>   -8.182</td> <td> 0.000</td> <td>   -2.094</td> <td>   -1.284</td>\n",
       "</tr>\n",
       "</table>"
      ],
      "text/plain": [
       "<class 'statsmodels.iolib.summary.Summary'>\n",
       "\"\"\"\n",
       "                           Logit Regression Results                           \n",
       "==============================================================================\n",
       "Dep. Variable:           HeartDisease   No. Observations:                  918\n",
       "Model:                          Logit   Df Residuals:                      907\n",
       "Method:                           MLE   Df Model:                           10\n",
       "Date:                Mon, 03 Jan 2022   Pseudo R-squ.:                  0.4720\n",
       "Time:                        16:05:32   Log-Likelihood:                -333.22\n",
       "converged:                       True   LL-Null:                       -631.07\n",
       "Covariance Type:            nonrobust   LLR p-value:                1.470e-121\n",
       "==================================================================================\n",
       "                     coef    std err          z      P>|z|      [0.025      0.975]\n",
       "----------------------------------------------------------------------------------\n",
       "Age                0.0273      0.010      2.753      0.006       0.008       0.047\n",
       "Sex                1.4336      0.253      5.673      0.000       0.938       1.929\n",
       "ChestPainType     -0.6925      0.106     -6.525      0.000      -0.901      -0.485\n",
       "RestingBP          0.0077      0.005      1.537      0.124      -0.002       0.018\n",
       "Cholesterol       -0.0036      0.001     -3.472      0.001      -0.006      -0.002\n",
       "FastingBS          1.0875      0.257      4.229      0.000       0.584       1.592\n",
       "RestingECG        -0.1288      0.161     -0.799      0.424      -0.445       0.187\n",
       "MaxHR             -0.0039      0.004     -1.086      0.278      -0.011       0.003\n",
       "ExerciseAngina     1.1403      0.229      4.985      0.000       0.692       1.589\n",
       "Oldpeak            0.3684      0.115      3.209      0.001       0.143       0.594\n",
       "ST_Slope          -1.6891      0.206     -8.182      0.000      -2.094      -1.284\n",
       "==================================================================================\n",
       "\"\"\""
      ]
     },
     "execution_count": 15,
     "metadata": {},
     "output_type": "execute_result"
    }
   ],
   "source": [
    "logit.fit().summary()"
   ]
  },
  {
   "cell_type": "code",
   "execution_count": 16,
   "id": "791c7b3b",
   "metadata": {
    "ExecuteTime": {
     "end_time": "2022-01-03T10:37:55.808431Z",
     "start_time": "2022-01-03T10:37:55.764428Z"
    }
   },
   "outputs": [
    {
     "data": {
      "text/html": [
       "<div>\n",
       "<style scoped>\n",
       "    .dataframe tbody tr th:only-of-type {\n",
       "        vertical-align: middle;\n",
       "    }\n",
       "\n",
       "    .dataframe tbody tr th {\n",
       "        vertical-align: top;\n",
       "    }\n",
       "\n",
       "    .dataframe thead th {\n",
       "        text-align: right;\n",
       "    }\n",
       "</style>\n",
       "<table border=\"1\" class=\"dataframe\">\n",
       "  <thead>\n",
       "    <tr style=\"text-align: right;\">\n",
       "      <th></th>\n",
       "      <th>Age</th>\n",
       "      <th>Sex</th>\n",
       "      <th>ChestPainType</th>\n",
       "      <th>Cholesterol</th>\n",
       "      <th>FastingBS</th>\n",
       "      <th>ExerciseAngina</th>\n",
       "      <th>Oldpeak</th>\n",
       "      <th>ST_Slope</th>\n",
       "    </tr>\n",
       "  </thead>\n",
       "  <tbody>\n",
       "    <tr>\n",
       "      <th>349</th>\n",
       "      <td>36</td>\n",
       "      <td>1</td>\n",
       "      <td>0</td>\n",
       "      <td>0</td>\n",
       "      <td>1</td>\n",
       "      <td>1</td>\n",
       "      <td>1.0</td>\n",
       "      <td>1</td>\n",
       "    </tr>\n",
       "    <tr>\n",
       "      <th>892</th>\n",
       "      <td>39</td>\n",
       "      <td>0</td>\n",
       "      <td>2</td>\n",
       "      <td>220</td>\n",
       "      <td>0</td>\n",
       "      <td>0</td>\n",
       "      <td>0.0</td>\n",
       "      <td>1</td>\n",
       "    </tr>\n",
       "    <tr>\n",
       "      <th>568</th>\n",
       "      <td>38</td>\n",
       "      <td>1</td>\n",
       "      <td>0</td>\n",
       "      <td>289</td>\n",
       "      <td>0</td>\n",
       "      <td>1</td>\n",
       "      <td>1.5</td>\n",
       "      <td>0</td>\n",
       "    </tr>\n",
       "    <tr>\n",
       "      <th>407</th>\n",
       "      <td>62</td>\n",
       "      <td>1</td>\n",
       "      <td>0</td>\n",
       "      <td>0</td>\n",
       "      <td>1</td>\n",
       "      <td>1</td>\n",
       "      <td>-0.5</td>\n",
       "      <td>1</td>\n",
       "    </tr>\n",
       "    <tr>\n",
       "      <th>612</th>\n",
       "      <td>55</td>\n",
       "      <td>1</td>\n",
       "      <td>0</td>\n",
       "      <td>223</td>\n",
       "      <td>1</td>\n",
       "      <td>0</td>\n",
       "      <td>0.0</td>\n",
       "      <td>1</td>\n",
       "    </tr>\n",
       "    <tr>\n",
       "      <th>...</th>\n",
       "      <td>...</td>\n",
       "      <td>...</td>\n",
       "      <td>...</td>\n",
       "      <td>...</td>\n",
       "      <td>...</td>\n",
       "      <td>...</td>\n",
       "      <td>...</td>\n",
       "      <td>...</td>\n",
       "    </tr>\n",
       "    <tr>\n",
       "      <th>140</th>\n",
       "      <td>52</td>\n",
       "      <td>1</td>\n",
       "      <td>0</td>\n",
       "      <td>331</td>\n",
       "      <td>0</td>\n",
       "      <td>1</td>\n",
       "      <td>2.5</td>\n",
       "      <td>1</td>\n",
       "    </tr>\n",
       "    <tr>\n",
       "      <th>500</th>\n",
       "      <td>65</td>\n",
       "      <td>1</td>\n",
       "      <td>0</td>\n",
       "      <td>248</td>\n",
       "      <td>0</td>\n",
       "      <td>1</td>\n",
       "      <td>4.0</td>\n",
       "      <td>0</td>\n",
       "    </tr>\n",
       "    <tr>\n",
       "      <th>813</th>\n",
       "      <td>69</td>\n",
       "      <td>0</td>\n",
       "      <td>3</td>\n",
       "      <td>239</td>\n",
       "      <td>0</td>\n",
       "      <td>0</td>\n",
       "      <td>1.8</td>\n",
       "      <td>2</td>\n",
       "    </tr>\n",
       "    <tr>\n",
       "      <th>421</th>\n",
       "      <td>66</td>\n",
       "      <td>1</td>\n",
       "      <td>2</td>\n",
       "      <td>0</td>\n",
       "      <td>0</td>\n",
       "      <td>0</td>\n",
       "      <td>-0.5</td>\n",
       "      <td>2</td>\n",
       "    </tr>\n",
       "    <tr>\n",
       "      <th>805</th>\n",
       "      <td>54</td>\n",
       "      <td>1</td>\n",
       "      <td>0</td>\n",
       "      <td>239</td>\n",
       "      <td>0</td>\n",
       "      <td>0</td>\n",
       "      <td>1.2</td>\n",
       "      <td>2</td>\n",
       "    </tr>\n",
       "  </tbody>\n",
       "</table>\n",
       "<p>734 rows × 8 columns</p>\n",
       "</div>"
      ],
      "text/plain": [
       "     Age  Sex  ChestPainType  Cholesterol  FastingBS  ExerciseAngina  Oldpeak  \\\n",
       "349   36    1              0            0          1               1      1.0   \n",
       "892   39    0              2          220          0               0      0.0   \n",
       "568   38    1              0          289          0               1      1.5   \n",
       "407   62    1              0            0          1               1     -0.5   \n",
       "612   55    1              0          223          1               0      0.0   \n",
       "..   ...  ...            ...          ...        ...             ...      ...   \n",
       "140   52    1              0          331          0               1      2.5   \n",
       "500   65    1              0          248          0               1      4.0   \n",
       "813   69    0              3          239          0               0      1.8   \n",
       "421   66    1              2            0          0               0     -0.5   \n",
       "805   54    1              0          239          0               0      1.2   \n",
       "\n",
       "     ST_Slope  \n",
       "349         1  \n",
       "892         1  \n",
       "568         0  \n",
       "407         1  \n",
       "612         1  \n",
       "..        ...  \n",
       "140         1  \n",
       "500         0  \n",
       "813         2  \n",
       "421         2  \n",
       "805         2  \n",
       "\n",
       "[734 rows x 8 columns]"
      ]
     },
     "execution_count": 16,
     "metadata": {},
     "output_type": "execute_result"
    }
   ],
   "source": [
    "x=heart.iloc[:,[0,1,2,4,5,8,9,10]]\n",
    "y=heart.iloc[:,11]\n",
    "x_train,x_test,y_train,y_test=train_test_split(x,y,test_size=0.2,random_state=30)\n",
    "x_train"
   ]
  },
  {
   "cell_type": "code",
   "execution_count": 25,
   "id": "51efcdbd",
   "metadata": {
    "ExecuteTime": {
     "end_time": "2022-01-03T10:44:21.726013Z",
     "start_time": "2022-01-03T10:44:21.697011Z"
    }
   },
   "outputs": [
    {
     "data": {
      "text/plain": [
       "771    1\n",
       "132    1\n",
       "609    1\n",
       "273    0\n",
       "373    1\n",
       "      ..\n",
       "780    0\n",
       "658    0\n",
       "143    0\n",
       "103    1\n",
       "808    1\n",
       "Name: HeartDisease, Length: 184, dtype: int64"
      ]
     },
     "execution_count": 25,
     "metadata": {},
     "output_type": "execute_result"
    }
   ],
   "source": [
    "y_test"
   ]
  },
  {
   "cell_type": "markdown",
   "id": "28cc402b",
   "metadata": {},
   "source": [
    "# Logistic Regression"
   ]
  },
  {
   "cell_type": "code",
   "execution_count": 18,
   "id": "0be8c3aa",
   "metadata": {
    "ExecuteTime": {
     "end_time": "2022-01-03T10:39:23.507504Z",
     "start_time": "2022-01-03T10:39:22.797463Z"
    }
   },
   "outputs": [
    {
     "name": "stderr",
     "output_type": "stream",
     "text": [
      "D:\\jup\\lib\\site-packages\\sklearn\\linear_model\\_logistic.py:762: ConvergenceWarning: lbfgs failed to converge (status=1):\n",
      "STOP: TOTAL NO. of ITERATIONS REACHED LIMIT.\n",
      "\n",
      "Increase the number of iterations (max_iter) or scale the data as shown in:\n",
      "    https://scikit-learn.org/stable/modules/preprocessing.html\n",
      "Please also refer to the documentation for alternative solver options:\n",
      "    https://scikit-learn.org/stable/modules/linear_model.html#logistic-regression\n",
      "  n_iter_i = _check_optimize_result(\n"
     ]
    },
    {
     "data": {
      "text/plain": [
       "LogisticRegression()"
      ]
     },
     "execution_count": 18,
     "metadata": {},
     "output_type": "execute_result"
    }
   ],
   "source": [
    "from sklearn.linear_model import LogisticRegression\n",
    "from sklearn import metrics\n",
    "from sklearn.metrics import classification_report\n",
    "from sklearn.metrics import confusion_matrix\n",
    "classifier=LogisticRegression()\n",
    "classifier.fit(x_train,y_train)"
   ]
  },
  {
   "cell_type": "code",
   "execution_count": 19,
   "id": "882ed25a",
   "metadata": {
    "ExecuteTime": {
     "end_time": "2022-01-03T10:39:49.091967Z",
     "start_time": "2022-01-03T10:39:49.072966Z"
    }
   },
   "outputs": [
    {
     "data": {
      "text/plain": [
       "array([[ 0.03022976,  1.03063622, -0.68055405, -0.00397291,  1.08766256,\n",
       "         1.22180454,  0.30564275, -1.6962508 ]])"
      ]
     },
     "execution_count": 19,
     "metadata": {},
     "output_type": "execute_result"
    }
   ],
   "source": [
    "classifier.coef_"
   ]
  },
  {
   "cell_type": "code",
   "execution_count": 20,
   "id": "9899d7cd",
   "metadata": {
    "ExecuteTime": {
     "end_time": "2022-01-03T10:40:18.758664Z",
     "start_time": "2022-01-03T10:40:18.724662Z"
    }
   },
   "outputs": [
    {
     "data": {
      "text/plain": [
       "array([[0.02506669, 0.97493331],\n",
       "       [0.89372578, 0.10627422],\n",
       "       [0.03440552, 0.96559448],\n",
       "       ...,\n",
       "       [0.95789681, 0.04210319],\n",
       "       [0.7786072 , 0.2213928 ],\n",
       "       [0.66577788, 0.33422212]])"
      ]
     },
     "execution_count": 20,
     "metadata": {},
     "output_type": "execute_result"
    }
   ],
   "source": [
    "classifier.predict_proba(x_train)"
   ]
  },
  {
   "cell_type": "code",
   "execution_count": 21,
   "id": "0e755348",
   "metadata": {
    "ExecuteTime": {
     "end_time": "2022-01-03T10:40:40.430904Z",
     "start_time": "2022-01-03T10:40:40.402902Z"
    }
   },
   "outputs": [
    {
     "data": {
      "text/plain": [
       "array([1, 0, 1, 1, 1, 0, 0, 0, 1, 0, 1, 1, 0, 1, 1, 0, 1, 0, 1, 1, 1, 1,\n",
       "       0, 0, 0, 0, 0, 0, 1, 0, 0, 1, 1, 1, 0, 1, 0, 0, 1, 1, 1, 0, 0, 1,\n",
       "       1, 0, 0, 0, 0, 0, 0, 0, 0, 0, 1, 0, 1, 0, 0, 0, 1, 0, 0, 0, 1, 0,\n",
       "       1, 1, 0, 1, 1, 0, 0, 1, 1, 0, 1, 1, 0, 1, 1, 1, 1, 0, 1, 0, 1, 0,\n",
       "       0, 1, 0, 0, 0, 1, 0, 1, 0, 1, 0, 0, 1, 0, 1, 0, 1, 1, 1, 0, 1, 1,\n",
       "       1, 1, 0, 0, 1, 1, 1, 1, 0, 0, 1, 0, 1, 0, 1, 1, 1, 1, 1, 1, 0, 1,\n",
       "       0, 1, 0, 1, 1, 1, 1, 1, 0, 0, 1, 1, 1, 1, 0, 1, 1, 1, 1, 0, 0, 0,\n",
       "       1, 1, 1, 1, 0, 1, 0, 1, 1, 0, 0, 0, 1, 1, 1, 1, 0, 0, 0, 1, 0, 1,\n",
       "       1, 1, 0, 0, 1, 1, 1, 0, 1, 0, 0, 0, 0, 1, 1, 0, 1, 1, 1, 0, 1, 0,\n",
       "       1, 1, 1, 1, 1, 1, 0, 0, 1, 1, 0, 0, 0, 1, 1, 0, 0, 1, 1, 1, 0, 0,\n",
       "       0, 1, 1, 0, 1, 1, 1, 0, 1, 1, 1, 0, 1, 0, 1, 1, 1, 0, 1, 1, 0, 1,\n",
       "       0, 0, 1, 0, 0, 0, 0, 1, 0, 0, 1, 1, 1, 1, 0, 1, 1, 1, 0, 0, 1, 0,\n",
       "       0, 1, 1, 0, 0, 1, 1, 0, 1, 0, 0, 1, 1, 0, 1, 1, 0, 1, 1, 1, 0, 1,\n",
       "       1, 0, 1, 1, 1, 0, 1, 0, 0, 0, 1, 1, 1, 1, 1, 1, 1, 1, 1, 0, 1, 1,\n",
       "       0, 0, 1, 0, 1, 1, 0, 1, 1, 1, 0, 1, 1, 1, 0, 0, 1, 0, 0, 1, 0, 1,\n",
       "       0, 0, 0, 1, 0, 0, 1, 1, 0, 0, 1, 1, 0, 0, 1, 0, 0, 1, 1, 1, 0, 1,\n",
       "       1, 1, 1, 0, 1, 0, 1, 1, 1, 1, 0, 1, 1, 1, 1, 1, 0, 0, 0, 0, 1, 0,\n",
       "       1, 1, 0, 0, 1, 1, 0, 1, 0, 0, 0, 1, 0, 0, 1, 1, 1, 1, 0, 1, 1, 0,\n",
       "       1, 1, 1, 0, 1, 1, 0, 0, 0, 0, 1, 1, 1, 1, 0, 1, 0, 1, 0, 1, 0, 1,\n",
       "       1, 0, 1, 1, 0, 0, 0, 0, 1, 1, 0, 1, 0, 1, 1, 1, 1, 1, 1, 0, 1, 1,\n",
       "       1, 1, 0, 1, 0, 0, 0, 0, 1, 1, 0, 0, 1, 0, 0, 0, 0, 1, 1, 0, 1, 1,\n",
       "       1, 0, 0, 1, 1, 1, 0, 1, 0, 1, 0, 1, 0, 1, 0, 0, 0, 1, 0, 1, 0, 0,\n",
       "       1, 1, 1, 1, 0, 1, 0, 1, 1, 1, 1, 0, 0, 1, 1, 0, 0, 1, 1, 1, 1, 1,\n",
       "       0, 0, 0, 0, 0, 1, 1, 1, 0, 0, 1, 1, 1, 1, 1, 1, 1, 1, 1, 0, 1, 0,\n",
       "       0, 1, 1, 0, 1, 0, 0, 1, 1, 1, 0, 0, 1, 1, 1, 0, 0, 1, 1, 1, 0, 0,\n",
       "       1, 0, 1, 0, 0, 0, 1, 1, 1, 1, 1, 1, 1, 1, 0, 1, 1, 0, 0, 1, 1, 1,\n",
       "       1, 1, 0, 0, 1, 0, 1, 0, 0, 0, 0, 1, 0, 1, 1, 1, 1, 1, 0, 1, 1, 1,\n",
       "       0, 1, 1, 1, 1, 1, 0, 1, 0, 1, 1, 0, 0, 1, 1, 0, 0, 1, 1, 0, 0, 1,\n",
       "       1, 1, 0, 1, 1, 1, 1, 1, 1, 0, 0, 1, 0, 0, 1, 0, 1, 0, 1, 1, 0, 0,\n",
       "       1, 1, 0, 1, 1, 0, 1, 0, 1, 1, 1, 0, 1, 1, 0, 0, 1, 1, 1, 0, 1, 1,\n",
       "       1, 0, 1, 1, 1, 1, 1, 0, 0, 1, 1, 0, 0, 0, 0, 1, 0, 1, 1, 1, 1, 1,\n",
       "       1, 1, 1, 0, 1, 0, 0, 1, 0, 1, 1, 1, 0, 0, 1, 0, 1, 1, 0, 1, 0, 0,\n",
       "       1, 1, 0, 0, 0, 0, 1, 1, 1, 0, 1, 1, 0, 1, 0, 0, 1, 1, 1, 1, 1, 0,\n",
       "       0, 0, 0, 1, 1, 0, 0, 0], dtype=int64)"
      ]
     },
     "execution_count": 21,
     "metadata": {},
     "output_type": "execute_result"
    }
   ],
   "source": [
    "y_pred1=classifier.predict(x_train)\n",
    "y_pred1"
   ]
  },
  {
   "cell_type": "code",
   "execution_count": 22,
   "id": "622d2529",
   "metadata": {
    "ExecuteTime": {
     "end_time": "2022-01-03T10:41:19.309127Z",
     "start_time": "2022-01-03T10:41:19.288126Z"
    }
   },
   "outputs": [
    {
     "data": {
      "text/plain": [
       "array([1, 1, 1, 0, 1, 1, 1, 0, 1, 0, 0, 1, 0, 0, 0, 1, 1, 1, 1, 0, 1, 1,\n",
       "       0, 1, 0, 1, 1, 1, 0, 1, 1, 1, 1, 0, 0, 0, 1, 0, 1, 0, 1, 1, 1, 0,\n",
       "       0, 1, 1, 0, 1, 0, 1, 0, 0, 0, 1, 1, 0, 0, 1, 1, 1, 0, 1, 0, 0, 1,\n",
       "       1, 1, 0, 1, 0, 0, 1, 0, 1, 1, 0, 0, 0, 1, 0, 0, 0, 1, 1, 1, 0, 1,\n",
       "       1, 1, 0, 1, 0, 1, 1, 1, 1, 1, 1, 0, 1, 1, 1, 1, 0, 1, 0, 1, 0, 0,\n",
       "       0, 0, 0, 0, 1, 0, 0, 1, 0, 0, 1, 0, 1, 1, 1, 1, 1, 0, 1, 1, 0, 1,\n",
       "       0, 1, 0, 0, 1, 1, 0, 1, 0, 1, 0, 0, 1, 1, 1, 1, 1, 0, 1, 1, 0, 1,\n",
       "       1, 1, 0, 1, 0, 1, 1, 1, 0, 1, 0, 0, 1, 1, 1, 0, 1, 0, 0, 1, 0, 0,\n",
       "       0, 0, 1, 0, 0, 0, 1, 0], dtype=int64)"
      ]
     },
     "execution_count": 22,
     "metadata": {},
     "output_type": "execute_result"
    }
   ],
   "source": [
    "y_pred2=classifier.predict(x_test)\n",
    "y_pred2"
   ]
  },
  {
   "cell_type": "code",
   "execution_count": 23,
   "id": "5a1ab867",
   "metadata": {
    "ExecuteTime": {
     "end_time": "2022-01-03T10:42:11.637120Z",
     "start_time": "2022-01-03T10:42:11.603119Z"
    }
   },
   "outputs": [
    {
     "name": "stdout",
     "output_type": "stream",
     "text": [
      "[[269  57]\n",
      " [ 45 363]]\n",
      "[[68 16]\n",
      " [14 86]]\n"
     ]
    }
   ],
   "source": [
    "from sklearn.metrics import confusion_matrix\n",
    "confusion_matrix1 = confusion_matrix(y_train,y_pred1)\n",
    "print (confusion_matrix1) \n",
    "\n",
    "confusion_matrix2 = confusion_matrix(y_test,y_pred2)\n",
    "print (confusion_matrix2) \n"
   ]
  },
  {
   "cell_type": "code",
   "execution_count": 70,
   "id": "09a671af",
   "metadata": {
    "ExecuteTime": {
     "end_time": "2022-01-03T11:13:25.527478Z",
     "start_time": "2022-01-03T11:13:25.506477Z"
    }
   },
   "outputs": [
    {
     "name": "stdout",
     "output_type": "stream",
     "text": [
      "train_accuracy= 0.8610354223433242\n",
      "test_accuracy= 0.8369565217391305\n"
     ]
    }
   ],
   "source": [
    "train_accuracy = sum(y_train==y_pred1)/734\n",
    "print(\"train_accuracy=\",train_accuracy)\n",
    "\n",
    "test_accuracy = sum(y_test==y_pred2)/184\n",
    "print(\"test_accuracy=\",test_accuracy)"
   ]
  },
  {
   "cell_type": "code",
   "execution_count": 30,
   "id": "5ef68154",
   "metadata": {
    "ExecuteTime": {
     "end_time": "2022-01-03T10:46:45.775252Z",
     "start_time": "2022-01-03T10:46:45.727249Z"
    }
   },
   "outputs": [
    {
     "name": "stdout",
     "output_type": "stream",
     "text": [
      "              precision    recall  f1-score   support\n",
      "\n",
      "           0       0.86      0.83      0.84       326\n",
      "           1       0.86      0.89      0.88       408\n",
      "\n",
      "    accuracy                           0.86       734\n",
      "   macro avg       0.86      0.86      0.86       734\n",
      "weighted avg       0.86      0.86      0.86       734\n",
      "\n",
      "              precision    recall  f1-score   support\n",
      "\n",
      "           0       0.83      0.81      0.82        84\n",
      "           1       0.84      0.86      0.85       100\n",
      "\n",
      "    accuracy                           0.84       184\n",
      "   macro avg       0.84      0.83      0.84       184\n",
      "weighted avg       0.84      0.84      0.84       184\n",
      "\n"
     ]
    }
   ],
   "source": [
    "print (classification_report (y_train, y_pred1))  \n",
    "print (classification_report (y_test, y_pred2))  "
   ]
  },
  {
   "cell_type": "code",
   "execution_count": 59,
   "id": "a3770b06",
   "metadata": {
    "ExecuteTime": {
     "end_time": "2022-01-03T11:01:19.780864Z",
     "start_time": "2022-01-03T11:01:19.743862Z"
    }
   },
   "outputs": [
    {
     "name": "stdout",
     "output_type": "stream",
     "text": [
      "0.857429628293035\n",
      "0.8347619047619047\n"
     ]
    }
   ],
   "source": [
    "from sklearn.metrics import roc_auc_score\n",
    "from sklearn.metrics import roc_curve\n",
    "Logit_roc_score=roc_auc_score(y_train,classifier.predict(x_train))\n",
    "print(Logit_roc_score ) \n",
    "\n",
    "Logit_roc_score=roc_auc_score(y_test,classifier.predict(x_test))\n",
    "print(Logit_roc_score)  "
   ]
  },
  {
   "cell_type": "code",
   "execution_count": 60,
   "id": "01cc65b6",
   "metadata": {
    "ExecuteTime": {
     "end_time": "2022-01-03T11:01:48.820525Z",
     "start_time": "2022-01-03T11:01:48.066482Z"
    }
   },
   "outputs": [
    {
     "data": {
      "image/png": "[encoded data removed]",
      "text/plain": [
       "<Figure size 432x288 with 1 Axes>"
      ]
     },
     "metadata": {
      "needs_background": "light"
     },
     "output_type": "display_data"
    }
   ],
   "source": [
    "fpr, tpr, thresholds = roc_curve(y_test,classifier.predict_proba(x_test)[:,1]) \n",
    "plt.plot(fpr, tpr, label='Logistic Regression (area=%0.2f)'% Logit_roc_score)\n",
    "plt.plot([0, 1], [0, 1],'r--')\n",
    "plt.xlim([0.0, 1.0])\n",
    "plt.ylim([0.0, 1.05])\n",
    "plt.xlabel('False Positive Rate')\n",
    "plt.ylabel('True Positive Rate')\n",
    "plt.title('Receiver operating characteristic')\n",
    "plt.legend(loc=\"lower right\")\n",
    "plt.show()   "
   ]
  },
  {
   "cell_type": "markdown",
   "id": "06e57dd6",
   "metadata": {},
   "source": [
    "# Decision Tree"
   ]
  },
  {
   "cell_type": "code",
   "execution_count": 61,
   "id": "18a23c1f",
   "metadata": {
    "ExecuteTime": {
     "end_time": "2022-01-03T11:02:45.766720Z",
     "start_time": "2022-01-03T11:02:45.084681Z"
    }
   },
   "outputs": [
    {
     "data": {
      "text/plain": [
       "DecisionTreeClassifier(criterion='entropy', max_depth=2)"
      ]
     },
     "execution_count": 61,
     "metadata": {},
     "output_type": "execute_result"
    }
   ],
   "source": [
    "from sklearn.tree import  DecisionTreeClassifier\n",
    "from sklearn import tree\n",
    "model = DecisionTreeClassifier(criterion = 'entropy',max_depth=2)\n",
    "model.fit(x_train,y_train) "
   ]
  },
  {
   "cell_type": "code",
   "execution_count": 62,
   "id": "2ea40e4a",
   "metadata": {
    "ExecuteTime": {
     "end_time": "2022-01-03T11:02:58.401443Z",
     "start_time": "2022-01-03T11:02:57.611397Z"
    }
   },
   "outputs": [
    {
     "data": {
      "image/png": "[encoded data removed]",
      "text/plain": [
       "<Figure size 432x288 with 1 Axes>"
      ]
     },
     "metadata": {
      "needs_background": "light"
     },
     "output_type": "display_data"
    }
   ],
   "source": [
    "tree.plot_tree(model);"
   ]
  },
  {
   "cell_type": "code",
   "execution_count": 63,
   "id": "0adff375",
   "metadata": {
    "ExecuteTime": {
     "end_time": "2022-01-03T11:04:11.378617Z",
     "start_time": "2022-01-03T11:04:11.319613Z"
    }
   },
   "outputs": [
    {
     "data": {
      "text/plain": [
       "1    456\n",
       "0    278\n",
       "dtype: int64"
      ]
     },
     "execution_count": 63,
     "metadata": {},
     "output_type": "execute_result"
    }
   ],
   "source": [
    "preds1 = model.predict(x_train) \n",
    "pd.Series(preds1).value_counts()  "
   ]
  },
  {
   "cell_type": "code",
   "execution_count": 64,
   "id": "6d0afe60",
   "metadata": {
    "ExecuteTime": {
     "end_time": "2022-01-03T11:04:13.963764Z",
     "start_time": "2022-01-03T11:04:13.945763Z"
    }
   },
   "outputs": [
    {
     "data": {
      "text/plain": [
       "0.8419618528610354"
      ]
     },
     "execution_count": 64,
     "metadata": {},
     "output_type": "execute_result"
    }
   ],
   "source": [
    "train_accuracy = sum(y_train==preds1)/734\n",
    "train_accuracy "
   ]
  },
  {
   "cell_type": "code",
   "execution_count": 65,
   "id": "5757cf98",
   "metadata": {
    "ExecuteTime": {
     "end_time": "2022-01-03T11:04:16.032883Z",
     "start_time": "2022-01-03T11:04:16.010882Z"
    }
   },
   "outputs": [
    {
     "data": {
      "text/plain": [
       "1    113\n",
       "0     71\n",
       "dtype: int64"
      ]
     },
     "execution_count": 65,
     "metadata": {},
     "output_type": "execute_result"
    }
   ],
   "source": [
    "preds2= model.predict(x_test) \n",
    "pd.Series(preds2).value_counts()  "
   ]
  },
  {
   "cell_type": "code",
   "execution_count": 66,
   "id": "64796025",
   "metadata": {
    "ExecuteTime": {
     "end_time": "2022-01-03T11:04:21.425191Z",
     "start_time": "2022-01-03T11:04:21.397190Z"
    }
   },
   "outputs": [
    {
     "data": {
      "text/plain": [
       "0.8097826086956522"
      ]
     },
     "execution_count": 66,
     "metadata": {},
     "output_type": "execute_result"
    }
   ],
   "source": [
    "test_accuracy = sum(y_test==preds2)/184\n",
    "test_accuracy "
   ]
  },
  {
   "cell_type": "markdown",
   "id": "9e4c01e2",
   "metadata": {},
   "source": [
    "# Support Vector Machines"
   ]
  },
  {
   "cell_type": "code",
   "execution_count": 67,
   "id": "09a504dd",
   "metadata": {
    "ExecuteTime": {
     "end_time": "2022-01-03T11:11:30.039873Z",
     "start_time": "2022-01-03T11:11:30.032872Z"
    }
   },
   "outputs": [],
   "source": [
    "from sklearn.preprocessing import StandardScaler\n",
    "from sklearn import svm\n",
    "from sklearn.svm import SVC\n",
    "from sklearn.model_selection import GridSearchCV\n",
    "from sklearn.model_selection import  cross_val_score\n",
    "from sklearn.metrics import accuracy_score"
   ]
  },
  {
   "cell_type": "code",
   "execution_count": 68,
   "id": "ddc67eb2",
   "metadata": {
    "ExecuteTime": {
     "end_time": "2022-01-03T11:12:04.690855Z",
     "start_time": "2022-01-03T11:11:42.468583Z"
    }
   },
   "outputs": [
    {
     "data": {
      "text/plain": [
       "GridSearchCV(cv=10, estimator=SVC(),\n",
       "             param_grid=[{'C': [15, 14, 11, 10, 0.1, 0.001],\n",
       "                          'gamma': [33, 50, 4, 10, 0.5], 'kernel': ['rbf']}])"
      ]
     },
     "execution_count": 68,
     "metadata": {},
     "output_type": "execute_result"
    }
   ],
   "source": [
    "clf = SVC()\n",
    "param_grid = [{'kernel':['rbf'],'gamma':[33,50,4,10,0.5],'C':[15,14,11,10,0.1,0.001] }]\n",
    "gsv = GridSearchCV(clf,param_grid,cv=10)\n",
    "gsv.fit(x_train,y_train)"
   ]
  },
  {
   "cell_type": "code",
   "execution_count": 69,
   "id": "1773e2f9",
   "metadata": {
    "ExecuteTime": {
     "end_time": "2022-01-03T11:12:32.826464Z",
     "start_time": "2022-01-03T11:12:32.799462Z"
    }
   },
   "outputs": [
    {
     "data": {
      "text/plain": [
       "({'C': 10, 'gamma': 0.5, 'kernel': 'rbf'}, 0.6389115142539801)"
      ]
     },
     "execution_count": 69,
     "metadata": {},
     "output_type": "execute_result"
    }
   ],
   "source": [
    "gsv.best_params_ , gsv.best_score_ "
   ]
  },
  {
   "cell_type": "code",
   "execution_count": 73,
   "id": "6e6afdb3",
   "metadata": {
    "ExecuteTime": {
     "end_time": "2022-01-03T11:14:32.058834Z",
     "start_time": "2022-01-03T11:14:31.854822Z"
    }
   },
   "outputs": [
    {
     "name": "stdout",
     "output_type": "stream",
     "text": [
      "Accuracy= 99.86376021798365\n",
      "col_0           0    1\n",
      "HeartDisease          \n",
      "0             325    1\n",
      "1               0  408\n",
      "Accuracy = 63.58695652173913\n",
      "HeartDisease   0   1\n",
      "row_0               \n",
      "0             26   9\n",
      "1             58  91\n"
     ]
    }
   ],
   "source": [
    "clf=SVC(C=10,gamma=0.5,kernel='rbf')\n",
    "clf.fit(x_train,y_train)\n",
    "y_pred=clf.predict(x_train)\n",
    "acc=accuracy_score(y_train,y_pred)*100\n",
    "print(\"Accuracy=\",acc)\n",
    "print(pd.crosstab(y_train,y_pred))\n",
    "y_pred = clf.predict(x_test)\n",
    "acc = accuracy_score(y_test, y_pred) * 100\n",
    "print(\"Accuracy =\", acc)\n",
    "print(pd.crosstab(y_pred,y_test))"
   ]
  },
  {
   "cell_type": "markdown",
   "id": "5d42622a",
   "metadata": {},
   "source": [
    "# Random Forest"
   ]
  },
  {
   "cell_type": "code",
   "execution_count": 75,
   "id": "ceb9481f",
   "metadata": {
    "ExecuteTime": {
     "end_time": "2022-01-03T11:17:42.714538Z",
     "start_time": "2022-01-03T11:17:26.019584Z"
    }
   },
   "outputs": [
    {
     "name": "stdout",
     "output_type": "stream",
     "text": [
      "0.8363569048500554\n"
     ]
    }
   ],
   "source": [
    "from sklearn.model_selection import KFold\n",
    "from sklearn.ensemble import RandomForestClassifier\n",
    "num_trees = 500\n",
    "max_features = 6\n",
    "kfold = KFold(n_splits=10, random_state=7,shuffle=True)\n",
    "model = RandomForestClassifier(n_estimators=num_trees, max_features=max_features)\n",
    "results = cross_val_score(model, x_train, y_train, cv=kfold)\n",
    "print(results.mean()) "
   ]
  },
  {
   "cell_type": "code",
   "execution_count": 76,
   "id": "a609db56",
   "metadata": {
    "ExecuteTime": {
     "end_time": "2022-01-03T11:19:46.945644Z",
     "start_time": "2022-01-03T11:19:33.978902Z"
    }
   },
   "outputs": [
    {
     "name": "stdout",
     "output_type": "stream",
     "text": [
      "0.8260233918128655\n"
     ]
    }
   ],
   "source": [
    "results = cross_val_score(model, x_test, y_test, cv=kfold)\n",
    "print(results.mean()) "
   ]
  },
  {
   "cell_type": "markdown",
   "id": "1557d27c",
   "metadata": {},
   "source": [
    "# knn algorithm"
   ]
  },
  {
   "cell_type": "code",
   "execution_count": 77,
   "id": "202efe2e",
   "metadata": {
    "ExecuteTime": {
     "end_time": "2022-01-03T11:20:34.131844Z",
     "start_time": "2022-01-03T11:20:33.921832Z"
    }
   },
   "outputs": [
    {
     "name": "stdout",
     "output_type": "stream",
     "text": [
      "0.6687708256201407\n"
     ]
    }
   ],
   "source": [
    "from sklearn.neighbors import KNeighborsClassifier\n",
    "num_folds = 10\n",
    "kfold = KFold(n_splits=10)\n",
    "model = KNeighborsClassifier(n_neighbors=17)\n",
    "results = cross_val_score(model, x_train, y_train, cv=kfold)\n",
    "print(results.mean())"
   ]
  },
  {
   "cell_type": "code",
   "execution_count": 78,
   "id": "f1a00303",
   "metadata": {
    "ExecuteTime": {
     "end_time": "2022-01-03T11:20:38.664103Z",
     "start_time": "2022-01-03T11:20:38.528095Z"
    }
   },
   "outputs": [
    {
     "name": "stdout",
     "output_type": "stream",
     "text": [
      "0.6263157894736843\n"
     ]
    }
   ],
   "source": [
    "results = cross_val_score(model, x_test, y_test, cv=kfold)\n",
    "print(results.mean())"
   ]
  },
  {
   "cell_type": "code",
   "execution_count": 79,
   "id": "a561d7da",
   "metadata": {
    "ExecuteTime": {
     "end_time": "2022-01-03T11:20:45.010466Z",
     "start_time": "2022-01-03T11:20:41.203248Z"
    }
   },
   "outputs": [
    {
     "name": "stdout",
     "output_type": "stream",
     "text": [
      "0.6634144068586338\n",
      "{'n_neighbors': 35}\n"
     ]
    }
   ],
   "source": [
    "from sklearn.neighbors import KNeighborsClassifier\n",
    "from sklearn.model_selection import GridSearchCV\n",
    "n_neighbors = np.array(range(1,37))\n",
    "param_grid = dict(n_neighbors=n_neighbors)\n",
    "model = KNeighborsClassifier()\n",
    "grid = GridSearchCV(estimator=model, param_grid=param_grid)\n",
    "grid.fit(x_train, y_train)\n",
    "print(grid.best_score_)\n",
    "print(grid.best_params_)"
   ]
  },
  {
   "cell_type": "code",
   "execution_count": 80,
   "id": "a64973c1",
   "metadata": {
    "ExecuteTime": {
     "end_time": "2022-01-03T11:20:50.269767Z",
     "start_time": "2022-01-03T11:20:48.195648Z"
    }
   },
   "outputs": [
    {
     "name": "stdout",
     "output_type": "stream",
     "text": [
      "0.683933933933934\n",
      "{'n_neighbors': 3}\n"
     ]
    }
   ],
   "source": [
    "grid.fit(x_test, y_test)\n",
    "print(grid.best_score_)\n",
    "print(grid.best_params_)"
   ]
  },
  {
   "cell_type": "code",
   "execution_count": 81,
   "id": "e7a8e0e8",
   "metadata": {
    "ExecuteTime": {
     "end_time": "2022-01-03T11:21:01.593414Z",
     "start_time": "2022-01-03T11:20:56.190105Z"
    }
   },
   "outputs": [
    {
     "data": {
      "image/png": "[encoded data removed]",
      "text/plain": [
       "<Figure size 432x288 with 1 Axes>"
      ]
     },
     "metadata": {
      "needs_background": "light"
     },
     "output_type": "display_data"
    }
   ],
   "source": [
    "import matplotlib.pyplot as plt \n",
    "%matplotlib inline\n",
    "k_range = range(1, 41)\n",
    "k_scores = []\n",
    "\n",
    "for k in k_range:\n",
    "    knn = KNeighborsClassifier(n_neighbors=k)\n",
    "    scores = cross_val_score(knn,x, y, cv=5)\n",
    "    k_scores.append(scores.mean())\n",
    "\n",
    "plt.plot(k_range, k_scores)\n",
    "plt.xlabel('Value of K for KNN')\n",
    "plt.ylabel('Cross-Validated Accuracy')\n",
    "plt.show()"
   ]
  },
  {
   "cell_type": "markdown",
   "id": "0ee4c57b",
   "metadata": {},
   "source": [
    "# Neural networks"
   ]
  },
  {
   "cell_type": "code",
   "execution_count": 83,
   "id": "49ec81ba",
   "metadata": {
    "ExecuteTime": {
     "end_time": "2022-01-03T11:24:09.631153Z",
     "start_time": "2022-01-03T11:24:09.617152Z"
    }
   },
   "outputs": [],
   "source": [
    "import tensorflow.compat.v2 as tv\n",
    "import tensorflow as tf\n",
    "from tensorflow import keras "
   ]
  },
  {
   "cell_type": "code",
   "execution_count": 88,
   "id": "22dea6ec",
   "metadata": {
    "ExecuteTime": {
     "end_time": "2022-01-03T11:28:33.871525Z",
     "start_time": "2022-01-03T11:28:33.800521Z"
    }
   },
   "outputs": [],
   "source": [
    "from tensorflow.python.keras.models import Sequential\n",
    "from tensorflow.python.keras.layers import Dense\n",
    "from tensorflow.python.keras import regularizers\n",
    "seed = 7\n",
    "np.random.seed(seed)\n",
    "model = Sequential()\n",
    "model.add(Dense(30, input_dim=8, activation='relu'))\n",
    "model.add(Dense(15,  activation='relu'))\n",
    "\n",
    "model.add(Dense(1,  activation='sigmoid')) \n",
    "model.compile(loss='binary_crossentropy', optimizer='adam', metrics=['acc']) "
   ]
  },
  {
   "cell_type": "code",
   "execution_count": 89,
   "id": "580b5399",
   "metadata": {
    "ExecuteTime": {
     "end_time": "2022-01-03T11:28:52.679600Z",
     "start_time": "2022-01-03T11:28:36.203658Z"
    }
   },
   "outputs": [
    {
     "name": "stdout",
     "output_type": "stream",
     "text": [
      "Epoch 1/150\n",
      "39/39 [==============================] - 1s 8ms/step - loss: 1.3420 - acc: 0.6276 - val_loss: 0.6925 - val_acc: 0.5281\n",
      "Epoch 2/150\n",
      "39/39 [==============================] - 0s 3ms/step - loss: 0.5590 - acc: 0.7203 - val_loss: 0.6598 - val_acc: 0.5446\n",
      "Epoch 3/150\n",
      "39/39 [==============================] - 0s 3ms/step - loss: 0.5141 - acc: 0.7756 - val_loss: 0.5820 - val_acc: 0.7228\n",
      "Epoch 4/150\n",
      "39/39 [==============================] - 0s 3ms/step - loss: 0.4848 - acc: 0.8293 - val_loss: 0.5516 - val_acc: 0.7393\n",
      "Epoch 5/150\n",
      "39/39 [==============================] - 0s 3ms/step - loss: 0.4666 - acc: 0.8488 - val_loss: 0.5524 - val_acc: 0.7525\n",
      "Epoch 6/150\n",
      "39/39 [==============================] - 0s 3ms/step - loss: 0.4440 - acc: 0.8602 - val_loss: 0.5291 - val_acc: 0.7525\n",
      "Epoch 7/150\n",
      "39/39 [==============================] - 0s 3ms/step - loss: 0.4263 - acc: 0.8504 - val_loss: 0.5207 - val_acc: 0.7558\n",
      "Epoch 8/150\n",
      "39/39 [==============================] - 0s 3ms/step - loss: 0.4258 - acc: 0.8407 - val_loss: 0.5140 - val_acc: 0.7690\n",
      "Epoch 9/150\n",
      "39/39 [==============================] - 0s 2ms/step - loss: 0.4140 - acc: 0.8602 - val_loss: 0.5093 - val_acc: 0.7657\n",
      "Epoch 10/150\n",
      "39/39 [==============================] - 0s 3ms/step - loss: 0.4070 - acc: 0.8488 - val_loss: 0.5475 - val_acc: 0.7129\n",
      "Epoch 11/150\n",
      "39/39 [==============================] - 0s 2ms/step - loss: 0.3896 - acc: 0.8634 - val_loss: 0.4923 - val_acc: 0.7789\n",
      "Epoch 12/150\n",
      "39/39 [==============================] - 0s 3ms/step - loss: 0.4249 - acc: 0.8228 - val_loss: 0.4973 - val_acc: 0.7525\n",
      "Epoch 13/150\n",
      "39/39 [==============================] - 0s 3ms/step - loss: 0.3910 - acc: 0.8569 - val_loss: 0.5798 - val_acc: 0.6997\n",
      "Epoch 14/150\n",
      "39/39 [==============================] - 0s 3ms/step - loss: 0.3719 - acc: 0.8602 - val_loss: 0.5235 - val_acc: 0.7624\n",
      "Epoch 15/150\n",
      "39/39 [==============================] - 0s 4ms/step - loss: 0.3796 - acc: 0.8488 - val_loss: 0.5715 - val_acc: 0.7096\n",
      "Epoch 16/150\n",
      "39/39 [==============================] - 0s 2ms/step - loss: 0.3612 - acc: 0.8650 - val_loss: 0.5174 - val_acc: 0.7459\n",
      "Epoch 17/150\n",
      "39/39 [==============================] - 0s 3ms/step - loss: 0.3711 - acc: 0.8618 - val_loss: 0.5577 - val_acc: 0.7393\n",
      "Epoch 18/150\n",
      "39/39 [==============================] - 0s 3ms/step - loss: 0.3379 - acc: 0.8748 - val_loss: 0.5062 - val_acc: 0.7492\n",
      "Epoch 19/150\n",
      "39/39 [==============================] - 0s 3ms/step - loss: 0.3530 - acc: 0.8667 - val_loss: 0.5782 - val_acc: 0.7162\n",
      "Epoch 20/150\n",
      "39/39 [==============================] - 0s 3ms/step - loss: 0.3456 - acc: 0.8699 - val_loss: 0.4911 - val_acc: 0.7855\n",
      "Epoch 21/150\n",
      "39/39 [==============================] - 0s 4ms/step - loss: 0.3378 - acc: 0.8780 - val_loss: 0.6046 - val_acc: 0.7063\n",
      "Epoch 22/150\n",
      "39/39 [==============================] - 0s 3ms/step - loss: 0.3368 - acc: 0.8699 - val_loss: 0.4879 - val_acc: 0.7855\n",
      "Epoch 23/150\n",
      "39/39 [==============================] - 0s 3ms/step - loss: 0.3516 - acc: 0.8667 - val_loss: 0.5114 - val_acc: 0.7492\n",
      "Epoch 24/150\n",
      "39/39 [==============================] - 0s 3ms/step - loss: 0.3394 - acc: 0.8667 - val_loss: 0.4914 - val_acc: 0.7723\n",
      "Epoch 25/150\n",
      "39/39 [==============================] - 0s 3ms/step - loss: 0.3834 - acc: 0.8472 - val_loss: 0.5610 - val_acc: 0.7360\n",
      "Epoch 26/150\n",
      "39/39 [==============================] - 0s 3ms/step - loss: 0.3091 - acc: 0.8878 - val_loss: 0.5025 - val_acc: 0.7855\n",
      "Epoch 27/150\n",
      "39/39 [==============================] - 0s 3ms/step - loss: 0.3217 - acc: 0.8764 - val_loss: 0.5227 - val_acc: 0.7459\n",
      "Epoch 28/150\n",
      "39/39 [==============================] - 0s 3ms/step - loss: 0.3314 - acc: 0.8585 - val_loss: 0.5028 - val_acc: 0.7954\n",
      "Epoch 29/150\n",
      "39/39 [==============================] - 0s 3ms/step - loss: 0.3323 - acc: 0.8732 - val_loss: 0.5293 - val_acc: 0.7789\n",
      "Epoch 30/150\n",
      "39/39 [==============================] - 0s 3ms/step - loss: 0.3110 - acc: 0.8846 - val_loss: 0.4971 - val_acc: 0.7789\n",
      "Epoch 31/150\n",
      "39/39 [==============================] - 0s 3ms/step - loss: 0.3191 - acc: 0.8732 - val_loss: 0.5362 - val_acc: 0.7393\n",
      "Epoch 32/150\n",
      "39/39 [==============================] - 0s 3ms/step - loss: 0.3447 - acc: 0.8764 - val_loss: 0.4984 - val_acc: 0.7921\n",
      "Epoch 33/150\n",
      "39/39 [==============================] - 0s 3ms/step - loss: 0.3138 - acc: 0.8780 - val_loss: 0.5126 - val_acc: 0.7822\n",
      "Epoch 34/150\n",
      "39/39 [==============================] - 0s 2ms/step - loss: 0.2983 - acc: 0.8780 - val_loss: 0.5600 - val_acc: 0.7327\n",
      "Epoch 35/150\n",
      "39/39 [==============================] - 0s 3ms/step - loss: 0.3068 - acc: 0.8862 - val_loss: 0.5069 - val_acc: 0.7954\n",
      "Epoch 36/150\n",
      "39/39 [==============================] - 0s 3ms/step - loss: 0.3067 - acc: 0.8813 - val_loss: 0.6294 - val_acc: 0.7129\n",
      "Epoch 37/150\n",
      "39/39 [==============================] - 0s 3ms/step - loss: 0.3107 - acc: 0.8829 - val_loss: 0.5244 - val_acc: 0.7591\n",
      "Epoch 38/150\n",
      "39/39 [==============================] - 0s 3ms/step - loss: 0.2995 - acc: 0.8732 - val_loss: 0.5206 - val_acc: 0.7657\n",
      "Epoch 39/150\n",
      "39/39 [==============================] - 0s 3ms/step - loss: 0.2873 - acc: 0.8878 - val_loss: 0.6358 - val_acc: 0.7129\n",
      "Epoch 40/150\n",
      "39/39 [==============================] - 0s 3ms/step - loss: 0.3094 - acc: 0.8813 - val_loss: 0.5179 - val_acc: 0.7789\n",
      "Epoch 41/150\n",
      "39/39 [==============================] - 0s 3ms/step - loss: 0.3261 - acc: 0.8846 - val_loss: 0.5984 - val_acc: 0.7228\n",
      "Epoch 42/150\n",
      "39/39 [==============================] - 0s 3ms/step - loss: 0.2973 - acc: 0.8894 - val_loss: 0.5527 - val_acc: 0.7789\n",
      "Epoch 43/150\n",
      "39/39 [==============================] - 0s 3ms/step - loss: 0.3137 - acc: 0.8764 - val_loss: 0.5404 - val_acc: 0.7921\n",
      "Epoch 44/150\n",
      "39/39 [==============================] - 0s 3ms/step - loss: 0.3117 - acc: 0.8829 - val_loss: 0.5274 - val_acc: 0.7855\n",
      "Epoch 45/150\n",
      "39/39 [==============================] - 0s 3ms/step - loss: 0.3349 - acc: 0.8715 - val_loss: 0.5906 - val_acc: 0.7327\n",
      "Epoch 46/150\n",
      "39/39 [==============================] - 0s 3ms/step - loss: 0.2918 - acc: 0.8878 - val_loss: 0.5448 - val_acc: 0.7888\n",
      "Epoch 47/150\n",
      "39/39 [==============================] - 0s 3ms/step - loss: 0.2926 - acc: 0.8846 - val_loss: 0.5448 - val_acc: 0.7657\n",
      "Epoch 48/150\n",
      "39/39 [==============================] - 0s 3ms/step - loss: 0.3061 - acc: 0.8911 - val_loss: 0.5364 - val_acc: 0.7657\n",
      "Epoch 49/150\n",
      "39/39 [==============================] - 0s 3ms/step - loss: 0.2965 - acc: 0.8813 - val_loss: 0.5702 - val_acc: 0.7822\n",
      "Epoch 50/150\n",
      "39/39 [==============================] - 0s 3ms/step - loss: 0.2816 - acc: 0.9073 - val_loss: 0.5668 - val_acc: 0.7492\n",
      "Epoch 51/150\n",
      "39/39 [==============================] - 0s 3ms/step - loss: 0.2877 - acc: 0.8927 - val_loss: 0.6061 - val_acc: 0.7690\n",
      "Epoch 52/150\n",
      "39/39 [==============================] - 0s 3ms/step - loss: 0.3170 - acc: 0.8748 - val_loss: 0.5439 - val_acc: 0.7855\n",
      "Epoch 53/150\n",
      "39/39 [==============================] - 0s 3ms/step - loss: 0.2745 - acc: 0.9073 - val_loss: 0.5937 - val_acc: 0.7393\n",
      "Epoch 54/150\n",
      "39/39 [==============================] - 0s 3ms/step - loss: 0.2937 - acc: 0.8943 - val_loss: 0.6072 - val_acc: 0.7591\n",
      "Epoch 55/150\n",
      "39/39 [==============================] - 0s 3ms/step - loss: 0.2842 - acc: 0.8894 - val_loss: 0.5873 - val_acc: 0.7492\n",
      "Epoch 56/150\n",
      "39/39 [==============================] - 0s 3ms/step - loss: 0.2803 - acc: 0.8911 - val_loss: 0.5840 - val_acc: 0.7855\n",
      "Epoch 57/150\n",
      "39/39 [==============================] - 0s 3ms/step - loss: 0.2875 - acc: 0.8878 - val_loss: 0.5519 - val_acc: 0.7624\n",
      "Epoch 58/150\n",
      "39/39 [==============================] - 0s 3ms/step - loss: 0.2879 - acc: 0.8894 - val_loss: 0.5910 - val_acc: 0.7822\n",
      "Epoch 59/150\n",
      "39/39 [==============================] - 0s 3ms/step - loss: 0.3309 - acc: 0.8650 - val_loss: 0.5557 - val_acc: 0.7756\n",
      "Epoch 60/150\n",
      "39/39 [==============================] - 0s 3ms/step - loss: 0.2796 - acc: 0.8959 - val_loss: 0.5523 - val_acc: 0.7690\n",
      "Epoch 61/150\n",
      "39/39 [==============================] - 0s 3ms/step - loss: 0.2734 - acc: 0.8959 - val_loss: 0.5554 - val_acc: 0.7723\n",
      "Epoch 62/150\n",
      "39/39 [==============================] - 0s 3ms/step - loss: 0.2748 - acc: 0.8911 - val_loss: 0.5602 - val_acc: 0.7690\n",
      "Epoch 63/150\n",
      "39/39 [==============================] - 0s 3ms/step - loss: 0.2876 - acc: 0.8862 - val_loss: 0.7172 - val_acc: 0.7030\n",
      "Epoch 64/150\n",
      "39/39 [==============================] - 0s 3ms/step - loss: 0.2816 - acc: 0.8959 - val_loss: 0.5669 - val_acc: 0.7723\n",
      "Epoch 65/150\n",
      "39/39 [==============================] - 0s 2ms/step - loss: 0.2753 - acc: 0.8992 - val_loss: 0.6516 - val_acc: 0.7492\n",
      "Epoch 66/150\n",
      "39/39 [==============================] - 0s 3ms/step - loss: 0.2802 - acc: 0.8846 - val_loss: 0.6616 - val_acc: 0.7261\n",
      "Epoch 67/150\n",
      "39/39 [==============================] - 0s 2ms/step - loss: 0.2892 - acc: 0.8911 - val_loss: 0.6002 - val_acc: 0.7558\n",
      "Epoch 68/150\n",
      "39/39 [==============================] - 0s 2ms/step - loss: 0.2796 - acc: 0.9008 - val_loss: 0.5768 - val_acc: 0.7723\n",
      "Epoch 69/150\n",
      "39/39 [==============================] - 0s 2ms/step - loss: 0.2810 - acc: 0.8943 - val_loss: 0.5934 - val_acc: 0.7591\n",
      "Epoch 70/150\n",
      "39/39 [==============================] - 0s 2ms/step - loss: 0.2739 - acc: 0.8959 - val_loss: 0.6518 - val_acc: 0.7327\n",
      "Epoch 71/150\n",
      "39/39 [==============================] - 0s 3ms/step - loss: 0.2796 - acc: 0.8943 - val_loss: 0.6467 - val_acc: 0.7591\n",
      "Epoch 72/150\n",
      "39/39 [==============================] - 0s 2ms/step - loss: 0.2805 - acc: 0.8976 - val_loss: 0.5949 - val_acc: 0.7756\n",
      "Epoch 73/150\n",
      "39/39 [==============================] - 0s 3ms/step - loss: 0.2909 - acc: 0.8764 - val_loss: 0.5992 - val_acc: 0.7921\n",
      "Epoch 74/150\n",
      "39/39 [==============================] - 0s 2ms/step - loss: 0.2803 - acc: 0.8911 - val_loss: 0.6127 - val_acc: 0.7954\n",
      "Epoch 75/150\n",
      "39/39 [==============================] - 0s 3ms/step - loss: 0.2785 - acc: 0.8959 - val_loss: 0.5825 - val_acc: 0.7690\n",
      "Epoch 76/150\n",
      "39/39 [==============================] - 0s 2ms/step - loss: 0.2778 - acc: 0.8862 - val_loss: 0.5826 - val_acc: 0.7657\n",
      "Epoch 77/150\n",
      "39/39 [==============================] - 0s 2ms/step - loss: 0.2703 - acc: 0.9024 - val_loss: 0.5861 - val_acc: 0.7690\n",
      "Epoch 78/150\n",
      "39/39 [==============================] - 0s 3ms/step - loss: 0.3046 - acc: 0.8862 - val_loss: 0.5924 - val_acc: 0.7690\n",
      "Epoch 79/150\n",
      "39/39 [==============================] - 0s 2ms/step - loss: 0.2799 - acc: 0.8878 - val_loss: 0.6156 - val_acc: 0.7789\n",
      "Epoch 80/150\n",
      "39/39 [==============================] - 0s 3ms/step - loss: 0.2635 - acc: 0.8911 - val_loss: 0.5983 - val_acc: 0.7690\n",
      "Epoch 81/150\n",
      "39/39 [==============================] - 0s 2ms/step - loss: 0.2823 - acc: 0.8878 - val_loss: 0.6085 - val_acc: 0.7723\n",
      "Epoch 82/150\n",
      "39/39 [==============================] - 0s 2ms/step - loss: 0.2572 - acc: 0.8927 - val_loss: 0.8212 - val_acc: 0.6733\n",
      "Epoch 83/150\n",
      "39/39 [==============================] - 0s 3ms/step - loss: 0.2738 - acc: 0.8976 - val_loss: 0.6309 - val_acc: 0.7921\n",
      "Epoch 84/150\n",
      "39/39 [==============================] - 0s 2ms/step - loss: 0.2928 - acc: 0.8911 - val_loss: 0.5950 - val_acc: 0.7657\n",
      "Epoch 85/150\n",
      "39/39 [==============================] - 0s 2ms/step - loss: 0.2750 - acc: 0.9041 - val_loss: 0.6970 - val_acc: 0.7360\n",
      "Epoch 86/150\n",
      "39/39 [==============================] - 0s 2ms/step - loss: 0.2879 - acc: 0.8927 - val_loss: 0.7495 - val_acc: 0.7030\n",
      "Epoch 87/150\n",
      "39/39 [==============================] - 0s 2ms/step - loss: 0.3074 - acc: 0.8927 - val_loss: 0.6046 - val_acc: 0.7723\n",
      "Epoch 88/150\n",
      "39/39 [==============================] - 0s 3ms/step - loss: 0.2615 - acc: 0.9041 - val_loss: 0.5972 - val_acc: 0.7591\n",
      "Epoch 89/150\n",
      "39/39 [==============================] - 0s 2ms/step - loss: 0.2634 - acc: 0.8959 - val_loss: 0.6015 - val_acc: 0.7690\n",
      "Epoch 90/150\n",
      "39/39 [==============================] - 0s 2ms/step - loss: 0.2727 - acc: 0.8992 - val_loss: 0.6836 - val_acc: 0.7195\n",
      "Epoch 91/150\n",
      "39/39 [==============================] - 0s 2ms/step - loss: 0.2662 - acc: 0.8927 - val_loss: 0.6369 - val_acc: 0.7723\n",
      "Epoch 92/150\n",
      "39/39 [==============================] - 0s 3ms/step - loss: 0.2642 - acc: 0.8976 - val_loss: 0.6340 - val_acc: 0.7558\n",
      "Epoch 93/150\n",
      "39/39 [==============================] - 0s 2ms/step - loss: 0.2730 - acc: 0.8943 - val_loss: 0.6127 - val_acc: 0.7657\n",
      "Epoch 94/150\n",
      "39/39 [==============================] - 0s 2ms/step - loss: 0.2671 - acc: 0.9024 - val_loss: 0.6172 - val_acc: 0.7624\n",
      "Epoch 95/150\n",
      "39/39 [==============================] - 0s 2ms/step - loss: 0.2682 - acc: 0.9057 - val_loss: 0.6061 - val_acc: 0.7624\n",
      "Epoch 96/150\n",
      "39/39 [==============================] - 0s 3ms/step - loss: 0.2768 - acc: 0.8894 - val_loss: 0.6743 - val_acc: 0.7657\n",
      "Epoch 97/150\n",
      "39/39 [==============================] - 0s 3ms/step - loss: 0.2729 - acc: 0.8992 - val_loss: 0.6354 - val_acc: 0.7723\n",
      "Epoch 98/150\n",
      "39/39 [==============================] - 0s 2ms/step - loss: 0.2878 - acc: 0.8878 - val_loss: 0.6923 - val_acc: 0.7327\n",
      "Epoch 99/150\n",
      "39/39 [==============================] - 0s 2ms/step - loss: 0.2647 - acc: 0.8959 - val_loss: 0.6106 - val_acc: 0.7525\n",
      "Epoch 100/150\n",
      "39/39 [==============================] - 0s 2ms/step - loss: 0.2685 - acc: 0.9057 - val_loss: 0.6294 - val_acc: 0.7558\n",
      "Epoch 101/150\n",
      "39/39 [==============================] - 0s 2ms/step - loss: 0.2655 - acc: 0.8992 - val_loss: 0.6380 - val_acc: 0.7591\n",
      "Epoch 102/150\n",
      "39/39 [==============================] - 0s 3ms/step - loss: 0.2585 - acc: 0.8992 - val_loss: 0.6274 - val_acc: 0.7690\n",
      "Epoch 103/150\n",
      "39/39 [==============================] - 0s 3ms/step - loss: 0.2568 - acc: 0.8992 - val_loss: 0.6186 - val_acc: 0.7525\n",
      "Epoch 104/150\n",
      "39/39 [==============================] - 0s 3ms/step - loss: 0.2669 - acc: 0.9057 - val_loss: 0.6070 - val_acc: 0.7558\n",
      "Epoch 105/150\n",
      "39/39 [==============================] - 0s 3ms/step - loss: 0.2572 - acc: 0.8976 - val_loss: 0.7841 - val_acc: 0.7030\n",
      "Epoch 106/150\n",
      "39/39 [==============================] - 0s 3ms/step - loss: 0.2885 - acc: 0.8813 - val_loss: 0.6389 - val_acc: 0.7723\n",
      "Epoch 107/150\n",
      "39/39 [==============================] - 0s 2ms/step - loss: 0.2556 - acc: 0.9041 - val_loss: 0.6098 - val_acc: 0.7591\n",
      "Epoch 108/150\n",
      "39/39 [==============================] - 0s 2ms/step - loss: 0.2735 - acc: 0.8959 - val_loss: 0.6449 - val_acc: 0.7690\n",
      "Epoch 109/150\n",
      "39/39 [==============================] - 0s 3ms/step - loss: 0.2652 - acc: 0.9041 - val_loss: 0.6801 - val_acc: 0.7756\n",
      "Epoch 110/150\n",
      "39/39 [==============================] - 0s 3ms/step - loss: 0.3205 - acc: 0.8829 - val_loss: 0.8629 - val_acc: 0.6700\n",
      "Epoch 111/150\n",
      "39/39 [==============================] - 0s 2ms/step - loss: 0.2840 - acc: 0.8927 - val_loss: 0.6251 - val_acc: 0.7525\n",
      "Epoch 112/150\n",
      "39/39 [==============================] - 0s 3ms/step - loss: 0.2737 - acc: 0.8992 - val_loss: 0.6462 - val_acc: 0.7822\n",
      "Epoch 113/150\n",
      "39/39 [==============================] - 0s 2ms/step - loss: 0.2507 - acc: 0.9057 - val_loss: 0.6708 - val_acc: 0.7459\n",
      "Epoch 114/150\n",
      "39/39 [==============================] - 0s 2ms/step - loss: 0.2720 - acc: 0.8943 - val_loss: 0.6278 - val_acc: 0.7591\n",
      "Epoch 115/150\n",
      "39/39 [==============================] - 0s 2ms/step - loss: 0.2651 - acc: 0.8927 - val_loss: 0.6842 - val_acc: 0.7393\n",
      "Epoch 116/150\n",
      "39/39 [==============================] - 0s 3ms/step - loss: 0.2682 - acc: 0.8927 - val_loss: 0.7416 - val_acc: 0.7360\n",
      "Epoch 117/150\n",
      "39/39 [==============================] - 0s 2ms/step - loss: 0.2553 - acc: 0.9073 - val_loss: 0.7752 - val_acc: 0.7393\n",
      "Epoch 118/150\n",
      "39/39 [==============================] - 0s 3ms/step - loss: 0.2951 - acc: 0.8846 - val_loss: 0.6469 - val_acc: 0.7657\n",
      "Epoch 119/150\n",
      "39/39 [==============================] - 0s 3ms/step - loss: 0.2683 - acc: 0.9024 - val_loss: 0.6265 - val_acc: 0.7459\n",
      "Epoch 120/150\n",
      "39/39 [==============================] - 0s 3ms/step - loss: 0.2574 - acc: 0.9073 - val_loss: 0.8593 - val_acc: 0.6898\n",
      "Epoch 121/150\n",
      "39/39 [==============================] - 0s 2ms/step - loss: 0.2689 - acc: 0.8943 - val_loss: 0.6786 - val_acc: 0.7459\n",
      "Epoch 122/150\n",
      "39/39 [==============================] - 0s 2ms/step - loss: 0.2744 - acc: 0.8894 - val_loss: 0.6335 - val_acc: 0.7591\n",
      "Epoch 123/150\n",
      "39/39 [==============================] - 0s 3ms/step - loss: 0.2604 - acc: 0.9089 - val_loss: 0.6377 - val_acc: 0.7591\n",
      "Epoch 124/150\n",
      "39/39 [==============================] - 0s 3ms/step - loss: 0.2658 - acc: 0.8992 - val_loss: 0.6397 - val_acc: 0.7558\n",
      "Epoch 125/150\n",
      "39/39 [==============================] - 0s 3ms/step - loss: 0.2741 - acc: 0.8976 - val_loss: 0.7826 - val_acc: 0.7063\n",
      "Epoch 126/150\n",
      "39/39 [==============================] - 0s 2ms/step - loss: 0.2952 - acc: 0.8797 - val_loss: 0.6413 - val_acc: 0.7591\n",
      "Epoch 127/150\n",
      "39/39 [==============================] - 0s 2ms/step - loss: 0.2534 - acc: 0.9089 - val_loss: 0.6956 - val_acc: 0.7393\n",
      "Epoch 128/150\n",
      "39/39 [==============================] - 0s 3ms/step - loss: 0.3133 - acc: 0.8846 - val_loss: 0.6515 - val_acc: 0.7558\n",
      "Epoch 129/150\n",
      "39/39 [==============================] - 0s 2ms/step - loss: 0.3222 - acc: 0.8748 - val_loss: 0.6673 - val_acc: 0.7591\n",
      "Epoch 130/150\n",
      "39/39 [==============================] - 0s 2ms/step - loss: 0.2581 - acc: 0.9073 - val_loss: 0.9300 - val_acc: 0.6535\n",
      "Epoch 131/150\n",
      "39/39 [==============================] - 0s 2ms/step - loss: 0.3405 - acc: 0.8650 - val_loss: 0.6406 - val_acc: 0.7525\n",
      "Epoch 132/150\n",
      "39/39 [==============================] - 0s 3ms/step - loss: 0.2698 - acc: 0.8959 - val_loss: 0.6467 - val_acc: 0.7657\n",
      "Epoch 133/150\n",
      "39/39 [==============================] - 0s 2ms/step - loss: 0.2613 - acc: 0.9024 - val_loss: 0.6411 - val_acc: 0.7525\n",
      "Epoch 134/150\n",
      "39/39 [==============================] - 0s 3ms/step - loss: 0.2843 - acc: 0.8780 - val_loss: 0.6330 - val_acc: 0.7624\n",
      "Epoch 135/150\n",
      "39/39 [==============================] - 0s 3ms/step - loss: 0.2794 - acc: 0.8927 - val_loss: 0.7458 - val_acc: 0.7261\n",
      "Epoch 136/150\n",
      "39/39 [==============================] - 0s 3ms/step - loss: 0.2761 - acc: 0.9008 - val_loss: 0.7543 - val_acc: 0.7261\n",
      "Epoch 137/150\n",
      "39/39 [==============================] - 0s 2ms/step - loss: 0.2520 - acc: 0.9089 - val_loss: 0.6439 - val_acc: 0.7558\n",
      "Epoch 138/150\n",
      "39/39 [==============================] - 0s 2ms/step - loss: 0.2624 - acc: 0.9057 - val_loss: 0.6440 - val_acc: 0.7525\n",
      "Epoch 139/150\n",
      "39/39 [==============================] - 0s 3ms/step - loss: 0.2440 - acc: 0.9089 - val_loss: 0.6862 - val_acc: 0.7591\n",
      "Epoch 140/150\n",
      "39/39 [==============================] - 0s 2ms/step - loss: 0.2726 - acc: 0.8943 - val_loss: 0.6379 - val_acc: 0.7459\n",
      "Epoch 141/150\n",
      "39/39 [==============================] - 0s 3ms/step - loss: 0.2521 - acc: 0.9073 - val_loss: 0.6547 - val_acc: 0.7591\n",
      "Epoch 142/150\n",
      "39/39 [==============================] - 0s 2ms/step - loss: 0.2736 - acc: 0.8992 - val_loss: 0.6759 - val_acc: 0.7657\n",
      "Epoch 143/150\n",
      "39/39 [==============================] - 0s 2ms/step - loss: 0.2535 - acc: 0.9024 - val_loss: 0.6453 - val_acc: 0.7525\n",
      "Epoch 144/150\n",
      "39/39 [==============================] - 0s 2ms/step - loss: 0.2718 - acc: 0.8992 - val_loss: 0.7053 - val_acc: 0.7525\n",
      "Epoch 145/150\n",
      "39/39 [==============================] - 0s 2ms/step - loss: 0.2523 - acc: 0.9041 - val_loss: 0.6807 - val_acc: 0.7624\n",
      "Epoch 146/150\n",
      "39/39 [==============================] - 0s 2ms/step - loss: 0.2498 - acc: 0.9154 - val_loss: 0.6723 - val_acc: 0.7624\n",
      "Epoch 147/150\n",
      "39/39 [==============================] - 0s 2ms/step - loss: 0.2801 - acc: 0.8878 - val_loss: 0.6609 - val_acc: 0.7558\n",
      "Epoch 148/150\n",
      "39/39 [==============================] - 0s 2ms/step - loss: 0.2471 - acc: 0.9041 - val_loss: 0.6559 - val_acc: 0.7591\n",
      "Epoch 149/150\n",
      "39/39 [==============================] - 0s 3ms/step - loss: 0.2523 - acc: 0.9024 - val_loss: 0.6795 - val_acc: 0.7591\n",
      "Epoch 150/150\n",
      "39/39 [==============================] - 0s 2ms/step - loss: 0.2528 - acc: 0.9171 - val_loss: 0.6635 - val_acc: 0.7525\n"
     ]
    }
   ],
   "source": [
    "history=model.fit(x, y, validation_split=0.33, epochs=150, batch_size=16,verbose=1) "
   ]
  },
  {
   "cell_type": "code",
   "execution_count": 90,
   "id": "965dd056",
   "metadata": {
    "ExecuteTime": {
     "end_time": "2022-01-03T11:29:26.031508Z",
     "start_time": "2022-01-03T11:29:25.808495Z"
    }
   },
   "outputs": [
    {
     "name": "stdout",
     "output_type": "stream",
     "text": [
      "23/23 [==============================] - 0s 2ms/step - loss: 0.3781 - acc: 0.8638\n",
      "acc: 86.38%\n",
      "6/6 [==============================] - 0s 2ms/step - loss: 0.3850 - acc: 0.8587\n",
      "acc: 85.87%\n"
     ]
    }
   ],
   "source": [
    "scores = model.evaluate(x_train, y_train)\n",
    "print(\"%s: %.2f%%\" % (model.metrics_names[1], scores[1]*100)) \n",
    "\n",
    "scores = model.evaluate(x_test, y_test)\n",
    "print(\"%s: %.2f%%\" % (model.metrics_names[1], scores[1]*100))  "
   ]
  },
  {
   "cell_type": "code",
   "execution_count": 94,
   "id": "0c95eeac",
   "metadata": {
    "ExecuteTime": {
     "end_time": "2022-01-03T11:49:41.146559Z",
     "start_time": "2022-01-03T11:49:41.130558Z"
    }
   },
   "outputs": [
    {
     "data": {
      "text/plain": [
       "dict_keys([])"
      ]
     },
     "execution_count": 94,
     "metadata": {},
     "output_type": "execute_result"
    }
   ],
   "source": [
    "model.history.history.keys()"
   ]
  },
  {
   "cell_type": "code",
   "execution_count": 96,
   "id": "a65ba25c",
   "metadata": {
    "ExecuteTime": {
     "end_time": "2022-01-03T11:50:05.646960Z",
     "start_time": "2022-01-03T11:50:04.781911Z"
    }
   },
   "outputs": [
    {
     "data": {
      "image/png": "[encoded data removed]",
      "text/plain": [
       "<Figure size 432x288 with 1 Axes>"
      ]
     },
     "metadata": {
      "needs_background": "light"
     },
     "output_type": "display_data"
    },
    {
     "data": {
      "image/png": "[encoded data removed]",
      "text/plain": [
       "<Figure size 432x288 with 1 Axes>"
      ]
     },
     "metadata": {
      "needs_background": "light"
     },
     "output_type": "display_data"
    }
   ],
   "source": [
    "plt.plot(history.history['acc'])\n",
    "plt.plot(history.history['val_acc'])\n",
    "plt.title('model acc')\n",
    "plt.ylabel('accuracy')\n",
    "plt.xlabel('epoch')\n",
    "plt.legend(['train', 'test'], loc='upper left')\n",
    "plt.show()\n",
    "# summarize history for loss\n",
    "plt.plot(history.history['loss'])\n",
    "plt.plot(history.history['val_loss'])\n",
    "plt.title('model loss') \n",
    "plt.ylabel('loss')\n",
    "plt.xlabel('epoch')\n",
    "plt.legend(['train', 'test'], loc='upper left')\n",
    "plt.show()\n"
   ]
  },
  {
   "cell_type": "markdown",
   "id": "b015f77c",
   "metadata": {},
   "source": [
    "# Autokeras"
   ]
  },
  {
   "cell_type": "code",
   "execution_count": 97,
   "id": "47463094",
   "metadata": {
    "ExecuteTime": {
     "end_time": "2022-01-03T11:51:41.461128Z",
     "start_time": "2022-01-03T11:51:39.912039Z"
    }
   },
   "outputs": [],
   "source": [
    "import autokeras as ak"
   ]
  },
  {
   "cell_type": "code",
   "execution_count": 98,
   "id": "2c7bfadf",
   "metadata": {
    "ExecuteTime": {
     "end_time": "2022-01-03T11:52:08.220658Z",
     "start_time": "2022-01-03T11:51:42.976215Z"
    }
   },
   "outputs": [
    {
     "name": "stdout",
     "output_type": "stream",
     "text": [
      "Trial 3 Complete [00h 00m 04s]\n",
      "val_accuracy: 0.8730158805847168\n",
      "\n",
      "Best val_accuracy So Far: 0.8888888955116272\n",
      "Total elapsed time: 00h 00m 15s\n",
      "INFO:tensorflow:Oracle triggered exit\n",
      "Epoch 1/10\n",
      "23/23 [==============================] - 1s 3ms/step - loss: 0.6222 - accuracy: 0.7071\n",
      "Epoch 2/10\n",
      "23/23 [==============================] - 0s 2ms/step - loss: 0.4946 - accuracy: 0.8283\n",
      "Epoch 3/10\n",
      "23/23 [==============================] - 0s 3ms/step - loss: 0.4175 - accuracy: 0.8624\n",
      "Epoch 4/10\n",
      "23/23 [==============================] - 0s 2ms/step - loss: 0.3722 - accuracy: 0.8665\n",
      "Epoch 5/10\n",
      "23/23 [==============================] - 0s 3ms/step - loss: 0.3499 - accuracy: 0.8692\n",
      "Epoch 6/10\n",
      "23/23 [==============================] - 0s 2ms/step - loss: 0.3391 - accuracy: 0.8747\n",
      "Epoch 7/10\n",
      "23/23 [==============================] - 0s 2ms/step - loss: 0.3324 - accuracy: 0.8787\n",
      "Epoch 8/10\n",
      "23/23 [==============================] - 0s 2ms/step - loss: 0.3275 - accuracy: 0.8815\n",
      "Epoch 9/10\n",
      "23/23 [==============================] - 0s 2ms/step - loss: 0.3234 - accuracy: 0.8787\n",
      "Epoch 10/10\n",
      "23/23 [==============================] - 0s 2ms/step - loss: 0.3198 - accuracy: 0.8815\n",
      "INFO:tensorflow:Assets written to: .\\structured_data_classifier\\best_model\\assets\n"
     ]
    },
    {
     "data": {
      "text/plain": [
       "<tensorflow.python.keras.callbacks.History at 0x467d7130>"
      ]
     },
     "execution_count": 98,
     "metadata": {},
     "output_type": "execute_result"
    }
   ],
   "source": [
    "clf=ak.StructuredDataClassifier(overwrite=True,max_trials=3)\n",
    "clf.fit(x_train,y_train,epochs=10)"
   ]
  },
  {
   "cell_type": "markdown",
   "id": "b62e7d78",
   "metadata": {},
   "source": [
    "# tpot"
   ]
  },
  {
   "cell_type": "code",
   "execution_count": 99,
   "id": "5eabc386",
   "metadata": {
    "ExecuteTime": {
     "end_time": "2022-01-03T11:53:09.295052Z",
     "start_time": "2022-01-03T11:53:09.281051Z"
    }
   },
   "outputs": [],
   "source": [
    "from tpot import TPOTClassifier"
   ]
  },
  {
   "cell_type": "code",
   "execution_count": 101,
   "id": "582cce7e",
   "metadata": {
    "ExecuteTime": {
     "end_time": "2022-01-03T11:59:44.858863Z",
     "start_time": "2022-01-03T11:54:36.689050Z"
    }
   },
   "outputs": [
    {
     "data": {
      "application/vnd.jupyter.widget-view+json": {
       "model_id": "45c8c8d3c89741d781d4532c0d197245",
       "version_major": 2,
       "version_minor": 0
      },
      "text/plain": [
       "Optimization Progress:   0%|          | 0/100 [00:00<?, ?pipeline/s]"
      ]
     },
     "metadata": {},
     "output_type": "display_data"
    },
    {
     "name": "stdout",
     "output_type": "stream",
     "text": [
      "\n",
      "Generation 1 - Current best internal CV score: 0.8746715124405927\n",
      "\n",
      "5.11 minutes have elapsed. TPOT will close down.\n",
      "TPOT closed during evaluation in one generation.\n",
      "WARNING: TPOT may not provide a good pipeline if TPOT is stopped/interrupted in a early generation.\n",
      "\n",
      "\n",
      "TPOT closed prematurely. Will use the current best pipeline.\n",
      "\n",
      "Best pipeline: GradientBoostingClassifier(input_matrix, learning_rate=0.1, max_depth=2, max_features=0.55, min_samples_leaf=14, min_samples_split=15, n_estimators=100, subsample=0.7000000000000001)\n",
      "0.8586956521739131\n"
     ]
    }
   ],
   "source": [
    "tpot=TPOTClassifier(verbosity=2,max_time_mins=5)\n",
    "tpot.fit(x_train,y_train)\n",
    "print(tpot.score(x_test,y_test))"
   ]
  },
  {
   "cell_type": "code",
   "execution_count": 102,
   "id": "19e57275",
   "metadata": {
    "ExecuteTime": {
     "end_time": "2022-01-03T12:00:00.294746Z",
     "start_time": "2022-01-03T12:00:00.275744Z"
    }
   },
   "outputs": [
    {
     "data": {
      "text/plain": [
       "Pipeline(steps=[('gradientboostingclassifier',\n",
       "                 GradientBoostingClassifier(max_depth=2, max_features=0.55,\n",
       "                                            min_samples_leaf=14,\n",
       "                                            min_samples_split=15,\n",
       "                                            subsample=0.7000000000000001))])"
      ]
     },
     "execution_count": 102,
     "metadata": {},
     "output_type": "execute_result"
    }
   ],
   "source": [
    "tpot.fitted_pipeline_"
   ]
  },
  {
   "cell_type": "code",
   "execution_count": 103,
   "id": "70b31661",
   "metadata": {
    "ExecuteTime": {
     "end_time": "2022-01-03T12:00:05.719056Z",
     "start_time": "2022-01-03T12:00:05.702055Z"
    }
   },
   "outputs": [
    {
     "name": "stdout",
     "output_type": "stream",
     "text": [
      "0.8586956521739131\n"
     ]
    }
   ],
   "source": [
    "print(tpot.score(x_test,y_test))"
   ]
  },
  {
   "cell_type": "code",
   "execution_count": 104,
   "id": "488529a4",
   "metadata": {
    "ExecuteTime": {
     "end_time": "2022-01-03T12:00:08.434211Z",
     "start_time": "2022-01-03T12:00:08.428211Z"
    }
   },
   "outputs": [],
   "source": [
    "from sklearn.ensemble import GradientBoostingClassifier\n",
    "clf=GradientBoostingClassifier(n_estimators=135,random_state=4)"
   ]
  },
  {
   "cell_type": "code",
   "execution_count": 105,
   "id": "71e8640e",
   "metadata": {
    "ExecuteTime": {
     "end_time": "2022-01-03T12:00:11.081362Z",
     "start_time": "2022-01-03T12:00:10.815347Z"
    }
   },
   "outputs": [
    {
     "data": {
      "text/plain": [
       "GradientBoostingClassifier(n_estimators=135, random_state=4)"
      ]
     },
     "execution_count": 105,
     "metadata": {},
     "output_type": "execute_result"
    }
   ],
   "source": [
    "clf.fit(x_train,y_train)"
   ]
  },
  {
   "cell_type": "code",
   "execution_count": 116,
   "id": "bd9ca9a6",
   "metadata": {
    "ExecuteTime": {
     "end_time": "2022-01-03T12:07:10.685362Z",
     "start_time": "2022-01-03T12:07:10.641360Z"
    }
   },
   "outputs": [
    {
     "ename": "AttributeError",
     "evalue": "'MultinomialNB' object has no attribute 'feature_log_prob_'",
     "output_type": "error",
     "traceback": [
      "\u001b[1;31m---------------------------------------------------------------------------\u001b[0m",
      "\u001b[1;31mAttributeError\u001b[0m                            Traceback (most recent call last)",
      "\u001b[1;32m<ipython-input-116-7d43489bb68e>\u001b[0m in \u001b[0;36m<module>\u001b[1;34m\u001b[0m\n\u001b[1;32m----> 1\u001b[1;33m \u001b[0mclf\u001b[0m\u001b[1;33m.\u001b[0m\u001b[0mpredict\u001b[0m\u001b[1;33m(\u001b[0m\u001b[1;33m[\u001b[0m\u001b[1;33m[\u001b[0m\u001b[1;36m0\u001b[0m\u001b[1;33m,\u001b[0m\u001b[1;36m0\u001b[0m\u001b[1;33m,\u001b[0m\u001b[1;36m0\u001b[0m\u001b[1;33m,\u001b[0m\u001b[1;36m0\u001b[0m\u001b[1;33m,\u001b[0m\u001b[1;36m1\u001b[0m\u001b[1;33m,\u001b[0m\u001b[1;36m0\u001b[0m\u001b[1;33m,\u001b[0m\u001b[1;36m0\u001b[0m\u001b[1;33m,\u001b[0m\u001b[1;36m1\u001b[0m\u001b[1;33m]\u001b[0m\u001b[1;33m]\u001b[0m\u001b[1;33m)\u001b[0m\u001b[1;33m\u001b[0m\u001b[1;33m\u001b[0m\u001b[0m\n\u001b[0m",
      "\u001b[1;32mD:\\jup\\lib\\site-packages\\sklearn\\naive_bayes.py\u001b[0m in \u001b[0;36mpredict\u001b[1;34m(self, X)\u001b[0m\n\u001b[0;32m     76\u001b[0m         \u001b[0mcheck_is_fitted\u001b[0m\u001b[1;33m(\u001b[0m\u001b[0mself\u001b[0m\u001b[1;33m)\u001b[0m\u001b[1;33m\u001b[0m\u001b[1;33m\u001b[0m\u001b[0m\n\u001b[0;32m     77\u001b[0m         \u001b[0mX\u001b[0m \u001b[1;33m=\u001b[0m \u001b[0mself\u001b[0m\u001b[1;33m.\u001b[0m\u001b[0m_check_X\u001b[0m\u001b[1;33m(\u001b[0m\u001b[0mX\u001b[0m\u001b[1;33m)\u001b[0m\u001b[1;33m\u001b[0m\u001b[1;33m\u001b[0m\u001b[0m\n\u001b[1;32m---> 78\u001b[1;33m         \u001b[0mjll\u001b[0m \u001b[1;33m=\u001b[0m \u001b[0mself\u001b[0m\u001b[1;33m.\u001b[0m\u001b[0m_joint_log_likelihood\u001b[0m\u001b[1;33m(\u001b[0m\u001b[0mX\u001b[0m\u001b[1;33m)\u001b[0m\u001b[1;33m\u001b[0m\u001b[1;33m\u001b[0m\u001b[0m\n\u001b[0m\u001b[0;32m     79\u001b[0m         \u001b[1;32mreturn\u001b[0m \u001b[0mself\u001b[0m\u001b[1;33m.\u001b[0m\u001b[0mclasses_\u001b[0m\u001b[1;33m[\u001b[0m\u001b[0mnp\u001b[0m\u001b[1;33m.\u001b[0m\u001b[0margmax\u001b[0m\u001b[1;33m(\u001b[0m\u001b[0mjll\u001b[0m\u001b[1;33m,\u001b[0m \u001b[0maxis\u001b[0m\u001b[1;33m=\u001b[0m\u001b[1;36m1\u001b[0m\u001b[1;33m)\u001b[0m\u001b[1;33m]\u001b[0m\u001b[1;33m\u001b[0m\u001b[1;33m\u001b[0m\u001b[0m\n\u001b[0;32m     80\u001b[0m \u001b[1;33m\u001b[0m\u001b[0m\n",
      "\u001b[1;32mD:\\jup\\lib\\site-packages\\sklearn\\naive_bayes.py\u001b[0m in \u001b[0;36m_joint_log_likelihood\u001b[1;34m(self, X)\u001b[0m\n\u001b[0;32m    775\u001b[0m     \u001b[1;32mdef\u001b[0m \u001b[0m_joint_log_likelihood\u001b[0m\u001b[1;33m(\u001b[0m\u001b[0mself\u001b[0m\u001b[1;33m,\u001b[0m \u001b[0mX\u001b[0m\u001b[1;33m)\u001b[0m\u001b[1;33m:\u001b[0m\u001b[1;33m\u001b[0m\u001b[1;33m\u001b[0m\u001b[0m\n\u001b[0;32m    776\u001b[0m         \u001b[1;34m\"\"\"Calculate the posterior log probability of the samples X\"\"\"\u001b[0m\u001b[1;33m\u001b[0m\u001b[1;33m\u001b[0m\u001b[0m\n\u001b[1;32m--> 777\u001b[1;33m         return (safe_sparse_dot(X, self.feature_log_prob_.T) +\n\u001b[0m\u001b[0;32m    778\u001b[0m                 self.class_log_prior_)\n\u001b[0;32m    779\u001b[0m \u001b[1;33m\u001b[0m\u001b[0m\n",
      "\u001b[1;31mAttributeError\u001b[0m: 'MultinomialNB' object has no attribute 'feature_log_prob_'"
     ]
    }
   ],
   "source": [
    "clf.predict([[0,0,0,0,1,0,0,1]]) "
   ]
  },
  {
   "cell_type": "code",
   "execution_count": null,
   "id": "a17ef7b7",
   "metadata": {},
   "outputs": [],
   "source": []
  }
 ],
 "metadata": {
  "kernelspec": {
   "display_name": "Python 3",
   "language": "python",
   "name": "python3"
  },
  "language_info": {
   "codemirror_mode": {
    "name": "ipython",
    "version": 3
   },
   "file_extension": ".py",
   "mimetype": "text/x-python",
   "name": "python",
   "nbconvert_exporter": "python",
   "pygments_lexer": "ipython3",
   "version": "3.8.8"
  },
  "varInspector": {
   "cols": {
    "lenName": 16,
    "lenType": 16,
    "lenVar": 40
   },
   "kernels_config": {
    "python": {
     "delete_cmd_postfix": "",
     "delete_cmd_prefix": "del ",
     "library": "var_list.py",
     "varRefreshCmd": "print(var_dic_list())"
    },
    "r": {
     "delete_cmd_postfix": ") ",
     "delete_cmd_prefix": "rm(",
     "library": "var_list.r",
     "varRefreshCmd": "cat(var_dic_list()) "
    }
   },
   "types_to_exclude": [
    "module",
    "function",
    "builtin_function_or_method",
    "instance",
    "_Feature"
   ],
   "window_display": false
  }
 },
 "nbformat": 4,
 "nbformat_minor": 5
}
